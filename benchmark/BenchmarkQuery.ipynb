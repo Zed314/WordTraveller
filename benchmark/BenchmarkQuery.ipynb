{
 "cells": [
  {
   "cell_type": "markdown",
   "metadata": {},
   "source": [
    "# Benchmark for query algorthems\n",
    "\n",
    "## 1. getting the data"
   ]
  },
  {
   "cell_type": "code",
   "execution_count": 1,
   "metadata": {},
   "outputs": [],
   "source": [
    "## /!\\ to be executed only onses \n",
    "import sys\n",
    "sys.path.insert(0, \"..\")"
   ]
  },
  {
   "cell_type": "code",
   "execution_count": 2,
   "metadata": {},
   "outputs": [
    {
     "name": "stdout",
     "output_type": "stream",
     "text": [
      "325354\n"
     ]
    }
   ],
   "source": [
    "from wordtraveller import filemanager as fm\n",
    "filemanager = fm.FileManager('allDocs' , '../workspace/'  )\n",
    "Voc = filemanager.read_vocabulary()\n",
    "\n",
    "print(len(Voc))"
   ]
  },
  {
   "cell_type": "code",
   "execution_count": 3,
   "metadata": {},
   "outputs": [
    {
     "name": "stdout",
     "output_type": "stream",
     "text": [
      "131896\n"
     ]
    }
   ],
   "source": [
    "print(Voc.pop(\"***NumberDifferentDocs***\"))"
   ]
  },
  {
   "cell_type": "markdown",
   "metadata": {},
   "source": [
    "## 2. vocabulary analythis \n",
    "### a) gets the ten most frequant words"
   ]
  },
  {
   "cell_type": "code",
   "execution_count": 5,
   "metadata": {},
   "outputs": [
    {
     "name": "stdout",
     "output_type": "stream",
     "text": [
      "[(131997, '-'), (113786, '<number>'), (85006, 'said'), (62077, 'one'), (55571, 'two'), (54144, '--'), (52693, 'would'), (51461, 'also'), (50276, 'last'), (47889, 'new')]\n"
     ]
    }
   ],
   "source": [
    "from sortedcontainers import SortedDict\n",
    "worldsFreq = [0]*len(Voc)\n",
    "priviousOffset = 0 \n",
    "first = True\n",
    "for i, world in enumerate(Voc): \n",
    "    worldsFreq[i] = (int(Voc[world]) -priviousOffset, world )\n",
    "    priviousOffset = int(Voc[world])\n",
    "worldsFreq.sort(reverse=True)\n",
    "print(worldsFreq[0:10])"
   ]
  },
  {
   "cell_type": "markdown",
   "metadata": {},
   "source": [
    "### b) Zipf's low"
   ]
  },
  {
   "cell_type": "code",
   "execution_count": 7,
   "metadata": {},
   "outputs": [
    {
     "data": {
      "image/png": "[encoded data removed]",
      "text/plain": [
       "<Figure size 432x288 with 1 Axes>"
      ]
     },
     "metadata": {
      "needs_background": "light"
     },
     "output_type": "display_data"
    }
   ],
   "source": [
    "import matplotlib.pyplot as plt\n",
    "\n",
    "freqs = [0]*len(Voc)\n",
    "priviousOffset = 0 \n",
    "for i, world in enumerate(Voc): \n",
    "    freqs[i] = (Voc[world]) -priviousOffset\n",
    "    priviousOffset = int(Voc[world])\n",
    "    \n",
    "freqs.sort(reverse=True)\n",
    "\n",
    "plt.plot(freqs)\n",
    "plt.ylabel('frequanc mot')\n",
    "plt.xscale('log')\n",
    "plt.yscale('log')\n",
    "plt.show()"
   ]
  },
  {
   "cell_type": "markdown",
   "metadata": {},
   "source": [
    "on peut classer les mot de la fasson suivante: \n",
    "\n",
    "heighFreq = worldsFreq[10:100] # 50 000 > x > 15 000\n",
    "middelFreq = worldsFreq[1000:5000] # 4500 > x > 800 \n",
    "lowFreq =worldsFreq[50000: 150000] # 17 > x > 2 \n",
    "\n",
    "\n",
    "\n",
    "\n",
    "## 3. Evaluation des performances \n",
    "### a) analyse de l'evalusiont du temps de calcule en fonction du nombre de resutat attenu\n",
    "\n",
    "l'annalyse peut étres fait sur plusieur groups de mots: \n",
    "\n",
    "(4434, 'believes') (2077, 'coalition') (1434, 'matt')\n",
    "(6411, 'build')\n",
    "(7501, 'party') (6599, 'actually')(3802, 'jail') (4101, 'august')"
   ]
  },
  {
   "cell_type": "code",
   "execution_count": 9,
   "metadata": {},
   "outputs": [
    {
     "name": "stdout",
     "output_type": "stream",
     "text": [
      "finiched\r"
     ]
    }
   ],
   "source": [
    "from wordtraveller import query\n",
    "from wordtraveller import faginstavf, faginstopkvf, naivetopk\n",
    "from sys import stdout\n",
    "import time \n",
    "\n",
    "\n",
    "\n",
    "\n",
    "listOfWords = [[tuple[1]for tuple in worldsFreq[30:33]]]\n",
    "\n",
    "\n",
    "\n",
    "#words= ['build']\n",
    "#words= ['party','actually','jail','august']\n",
    "\n",
    "\n",
    "\n",
    "\n",
    "# \n",
    "size = 20\n",
    "\n",
    "def f(k): \n",
    "    return k\n",
    "\n",
    "totaleTimeTA = [[0]*len(listOfWords) for i in range(0,size)]\n",
    "totaleTimeNaiv = [[0]*len(listOfWords) for i in range(0,size)]\n",
    "totaleTimefag = [[0]*len(listOfWords) for i in range(0,size)]\n",
    "\n",
    "totaleTimeTAAvg = [0]*size\n",
    "totaleTimeNaivAvg = [0]*size\n",
    "totaleTimefagAvg = [0]*size\n",
    "\n",
    "\n",
    "for i,words in enumerate(listOfWords):\n",
    "    for k in range(0,size):\n",
    "        print(\"{}% \".format(round((i*size+k)/(len(listOfWords)*size)*100)), end=\"\\r\")\n",
    "        sartingTime = time.time()\n",
    "        resutle = faginstavf.apply_fagins_ta(words, Voc, filemanager, 0, f(k))\n",
    "        totaleTimeTA[k][i] = time.time() - sartingTime\n",
    "\n",
    "        sartingTime = time.time()\n",
    "        resutle = faginstopkvf.apply_top_k_algo(words, Voc, filemanager, 0, f(k))\n",
    "        totaleTimefag[k][i] = time.time() - sartingTime\n",
    "\n",
    "        sartingTime = time.time()\n",
    "        naivetopk.naive_top_k_algo(words, Voc, filemanager, 0,f(k) )\n",
    "        totaleTimeNaiv[k][i] = time.time() - sartingTime\n",
    "        \n",
    "print(\"finiched\", end=\"\\r\")\n",
    "\n",
    "for k in range(0,size):\n",
    "    totaleTimeTAAvg[k]= sum(totaleTimeTA[k])/len(totaleTimeTA[k])\n",
    "    totaleTimeNaivAvg[k]= sum(totaleTimeNaiv[k])/len(totaleTimeNaiv[k])\n",
    "    totaleTimefagAvg[k]= sum(totaleTimefag[k])/len(totaleTimefag[k])"
   ]
  },
  {
   "cell_type": "code",
   "execution_count": 10,
   "metadata": {},
   "outputs": [
    {
     "data": {
      "image/png": "[encoded data removed]",
      "text/plain": [
       "<Figure size 432x288 with 1 Axes>"
      ]
     },
     "metadata": {
      "needs_background": "light"
     },
     "output_type": "display_data"
    }
   ],
   "source": [
    "x = [0]*size\n",
    "for i in range(1,size): \n",
    "    x[i] = f(i)\n",
    "    \n",
    "\n",
    "plt.plot(x,totaleTimeTAAvg, label=\"FaginsTA \")\n",
    "plt.plot(x,totaleTimeNaivAvg, label=\"Fagins topK\")\n",
    "plt.plot(x,totaleTimefagAvg, label=\"naive topK \")\n",
    "\n",
    "plt.ylabel('time to comput (in s)')\n",
    "plt.xlabel('k')\n",
    "plt.legend(numpoints=2)\n",
    "plt.show()"
   ]
  },
  {
   "cell_type": "markdown",
   "metadata": {},
   "source": [
    "### b) analyse de l'evalusiont du temps de calcule en fonction du nombre de mot dans la recherche "
   ]
  },
  {
   "cell_type": "code",
   "execution_count": null,
   "metadata": {},
   "outputs": [],
   "source": [
    "from wordtraveller import query\n",
    "from wordtraveller import faginstavf, faginstopkvf, naivetopk\n",
    "from sys import stdout\n",
    "import time \n",
    "\n",
    "\n",
    "\n",
    "\n",
    "listOfWords = [[tuple[1]for tuple in worldsFreq[30:33]]]\n",
    "\n",
    "\n",
    "\n",
    "#words= ['build']\n",
    "#words= ['party','actually','jail','august']\n",
    "\n",
    "\n",
    "\n",
    "\n",
    "# \n",
    "size = 20\n",
    "\n",
    "def f(k): \n",
    "    return k\n",
    "\n",
    "totaleTimeTA = [[0]*len(listOfWords) for i in range(0,size)]\n",
    "totaleTimeNaiv = [[0]*len(listOfWords) for i in range(0,size)]\n",
    "totaleTimefag = [[0]*len(listOfWords) for i in range(0,size)]\n",
    "\n",
    "totaleTimeTAAvg = [0]*size\n",
    "totaleTimeNaivAvg = [0]*size\n",
    "totaleTimefagAvg = [0]*size\n",
    "\n",
    "\n",
    "for i,words in enumerate(listOfWords):\n",
    "    for k in range(0,size):\n",
    "        print(\"{}% \".format(round((i*size+k)/(len(listOfWords)*size)*100)), end=\"\\r\")\n",
    "        sartingTime = time.time()\n",
    "        resutle = faginstavf.apply_fagins_ta(words, Voc, filemanager, 0, f(k))\n",
    "        totaleTimeTA[k][i] = time.time() - sartingTime\n",
    "\n",
    "        sartingTime = time.time()\n",
    "        resutle = faginstopkvf.apply_top_k_algo(words, Voc, filemanager, 0, f(k))\n",
    "        totaleTimefag[k][i] = time.time() - sartingTime\n",
    "\n",
    "        sartingTime = time.time()\n",
    "        naivetopk.naive_top_k_algo(words, Voc, filemanager, 0,f(k) )\n",
    "        totaleTimeNaiv[k][i] = time.time() - sartingTime\n",
    "        \n",
    "print(\"finiched\", end=\"\\r\")\n",
    "\n",
    "for k in range(0,size):\n",
    "    totaleTimeTAAvg[k]= sum(totaleTimeTA[k])/len(totaleTimeTA[k])\n",
    "    totaleTimeNaivAvg[k]= sum(totaleTimeNaiv[k])/len(totaleTimeNaiv[k])\n",
    "    totaleTimefagAvg[k]= sum(totaleTimefag[k])/len(totaleTimefag[k])"
   ]
  },
  {
   "cell_type": "code",
   "execution_count": 11,
   "metadata": {},
   "outputs": [
    {
     "name": "stdout",
     "output_type": "stream",
     "text": [
      "finiched\r"
     ]
    }
   ],
   "source": [
    "from wordtraveller import query\n",
    "from wordtraveller import faginstavf, faginstopkvf, naivetopk\n",
    "from sys import stdout\n",
    "import time \n",
    "\n",
    "\n",
    "# define words \n",
    "WordsList= [0]*1024\n",
    "for i in range(0,1024): \n",
    "    WordsList[i]= worldsFreq[10000+i][1]\n",
    "WordsList.sort(reverse=True)\n",
    "\n",
    "# \n",
    "size = 20\n",
    "\n",
    "def f(k): \n",
    "    return k\n",
    "\n",
    "\n",
    "totaleTimeTAWords = [0]*size\n",
    "totaleTimefagWords = [0]*size\n",
    "totaleTimeNaivWords = [0]*size\n",
    "\n",
    "\n",
    "\n",
    "for n in range(0,size):\n",
    "    words = WordsList[0:n*n]\n",
    "    print(\"{}% \".format(round((n)/(size)*100)), end=\"\\r\")\n",
    "    sartingTime = time.time()\n",
    "    resutle = faginstavf.apply_fagins_ta(words, Voc, filemanager, 0, 30)\n",
    "    totaleTimeTAWords[n] = time.time() - sartingTime\n",
    "\n",
    "    sartingTime = time.time()\n",
    "    resutle = faginstopkvf.apply_top_k_algo(words, Voc, filemanager, 0, 30)\n",
    "    totaleTimefagWords[n] = time.time() - sartingTime\n",
    "\n",
    "    sartingTime = time.time()\n",
    "    naivetopk.naive_top_k_algo(words, Voc, filemanager, 0, 30)\n",
    "    totaleTimeNaivWords[n] = time.time() - sartingTime\n",
    "        \n",
    "print(\"finiched\", end=\"\\r\")\n"
   ]
  },
  {
   "cell_type": "code",
   "execution_count": 12,
   "metadata": {},
   "outputs": [
    {
     "data": {
      "image/png": "[encoded data removed]",
      "text/plain": [
       "<Figure size 432x288 with 1 Axes>"
      ]
     },
     "metadata": {
      "needs_background": "light"
     },
     "output_type": "display_data"
    }
   ],
   "source": [
    "x = [0]*size\n",
    "for i in range(1,size): \n",
    "    x[i] = i*i\n",
    "    \n",
    "\n",
    "\n",
    "plt.plot(x,totaleTimeTAWords, label=\"FaginsTA\")\n",
    "plt.plot(x,totaleTimefagWords, label=\"Fagins topK\")\n",
    "plt.plot(x,totaleTimeNaivWords, label=\"Naive\")\n",
    "\n",
    "plt.ylabel('time to comput (in s)')\n",
    "plt.xlabel('Number of words in the query')\n",
    "plt.legend(numpoints=2)\n",
    "plt.show()"
   ]
  },
  {
   "cell_type": "markdown",
   "metadata": {},
   "source": [
    "### c) analyse de l'evalusiont du temps de calcule en fonction de la tailles des posting lists"
   ]
  },
  {
   "cell_type": "code",
   "execution_count": 14,
   "metadata": {},
   "outputs": [
    {
     "name": "stdout",
     "output_type": "stream",
     "text": [
      "finiched\r"
     ]
    }
   ],
   "source": [
    "from wordtraveller import query\n",
    "from wordtraveller import faginstavf, faginstopkvf,naivetopk\n",
    "import time \n",
    "\n",
    "# define words \n",
    "\n",
    "\n",
    "size = 19\n",
    "nbIter = 5 \n",
    "nbOfwords = 2\n",
    "\n",
    "def f(i): \n",
    "    return i*i*100\n",
    "\n",
    "ListWorlds = [[0] * nbOfwords for _ in range(size)]\n",
    "for i in range(1,size+1): \n",
    "    ListWorlds[i-1] = [world[1] for world in worldsFreq if world[0]>=f(i) and world[0]<=f(i)*1.10][0:nbOfwords]\n",
    "    if len(ListWorlds[i-1])!= nbOfwords : \n",
    "            print (\"Le jeux de donnée n'est pas reproésentatife in faut changer les paramters\")\n",
    "            print (\"les mots de taille {} poesent probleme seul {} / {}\".format(f(i),len(ListWorlds[i-1]),nbOfwords ))\n",
    "#print (ListWorlds)\n",
    "\n",
    "totaleTimeTAPLAvg = [0]*size\n",
    "totaleTimefagPLAvg = [0]*size\n",
    "totaleTimeNaivPLAvg = [0]*size\n",
    "\n",
    "totaleTimeTAPL = [[0]*nbIter for i in range(0,size)]\n",
    "totaleTimeNaivPL = [[0]*nbIter for i in range(0,size)]\n",
    "totaleTimefagPL = [[0]*nbIter for i in range(0,size)]\n",
    "\n",
    "\n",
    "for k in range(0,nbIter):\n",
    "    for n in range(0,size):\n",
    "        print(\"{}% \".format(round((k*size+n)/(nbIter*size)*100)), end=\"\\r\")\n",
    "        words = ListWorlds[n]\n",
    "\n",
    "\n",
    "\n",
    "\n",
    "        sartingTime = time.time()\n",
    "        faginstavf.apply_fagins_ta(words, Voc, filemanager, 0, 15)\n",
    "        totaleTimeTAPL[n][k] = time.time() - sartingTime\n",
    "\n",
    "        sartingTime = time.time()\n",
    "        faginstopkvf.apply_top_k_algo(words, Voc, filemanager, 0, 15)\n",
    "        totaleTimefagPL[n][k] = time.time() - sartingTime\n",
    "\n",
    "        sartingTime = time.time()\n",
    "        naivetopk.naive_top_k_algo(words, Voc, filemanager, 0, 15 )\n",
    "        totaleTimeNaivPL[n][k] = time.time() - sartingTime\n",
    "print(\"finiched\", end=\"\\r\")\n",
    "\n",
    "\n",
    "for k in range(0,size):\n",
    "    totaleTimeTAPLAvg[k]= sum(totaleTimeTAPL[k])/nbIter\n",
    "    totaleTimefagPLAvg[k]= sum(totaleTimefagPL[k])/nbIter\n",
    "    totaleTimeNaivPLAvg[k]= sum(totaleTimeNaivPL[k])/nbIter"
   ]
  },
  {
   "cell_type": "code",
   "execution_count": 15,
   "metadata": {
    "scrolled": true
   },
   "outputs": [
    {
     "name": "stdout",
     "output_type": "stream",
     "text": [
      "[0, 100, 400, 900, 1600, 2500, 3600, 4900, 6400, 8100, 10000, 12100, 14400, 16900, 19600, 22500, 25600, 28900, 32400]\n"
     ]
    },
    {
     "data": {
      "image/png": "[encoded data removed]",
      "text/plain": [
       "<Figure size 432x288 with 1 Axes>"
      ]
     },
     "metadata": {
      "needs_background": "light"
     },
     "output_type": "display_data"
    }
   ],
   "source": [
    "size = 19\n",
    "nbIter = 5 \n",
    "nbOfwords = 2\n",
    "\n",
    "def f(i): \n",
    "    return i*i*100\n",
    "\n",
    "x = [0]*size\n",
    "for i in range(1,size): \n",
    "    x[i] = f(i)\n",
    "    \n",
    "\n",
    "print (x)\n",
    "plt.plot(x,totaleTimeTAPLAvg, label=\"FaginsTA\")\n",
    "plt.plot(x,totaleTimefagPLAvg, label=\"Fagins topK\") \n",
    "plt.plot(x,totaleTimeNaivPLAvg, label=\"naive\")\n",
    "\n",
    "\n",
    "plt.ylabel('time to comput (in s)')\n",
    "plt.xlabel('Number of documents in the posting list')\n",
    "plt.legend(numpoints=2)\n",
    "plt.show()\n",
    "\n"
   ]
  },
  {
   "cell_type": "markdown",
   "metadata": {},
   "source": [
    "### d) analyse de l'evalusiont du temps de calcule en fonction de epsilon pour TA"
   ]
  },
  {
   "cell_type": "code",
   "execution_count": 16,
   "metadata": {},
   "outputs": [
    {
     "name": "stdout",
     "output_type": "stream",
     "text": [
      "finiched\r"
     ]
    }
   ],
   "source": [
    "from wordtraveller import query\n",
    "from wordtraveller import faginstavf, faginstopkvf, naivetopk\n",
    "from sys import stdout\n",
    "import time \n",
    "\n",
    "\n",
    "\n",
    "\n",
    "listOfWords = [[tuple[1]for tuple in worldsFreq[200:210]]]\n",
    "#words= ['build']\n",
    "#words= ['party','actually','jail','august']\n",
    "\n",
    "\n",
    "\n",
    "\n",
    "# \n",
    "size = 20\n",
    "\n",
    "def f(k,size): \n",
    "    return k/3/size\n",
    "\n",
    "\n",
    "\n",
    "totaleTimeTAE = [[0]*len(listOfWords) for i in range(0,size)]\n",
    "\n",
    "\n",
    "totaleTimeTAEAvg = [0]*size\n",
    "\n",
    "\n",
    "for i,words in enumerate(listOfWords):\n",
    "    for k in range(0,size):\n",
    "        \n",
    "        print(\"{}% \".format(round((i*size+k)/(len(listOfWords)*size)*100)), end=\"\\r\")\n",
    "        sartingTime = time.time()\n",
    "        resutle = faginstavf.apply_fagins_ta(words, Voc, filemanager, f(k,size), 20)\n",
    "        totaleTimeTAE[k][i] = time.time() - sartingTime\n",
    "\n",
    "        \n",
    "print(\"finiched\", end=\"\\r\")\n",
    "\n",
    "for k in range(0,size):\n",
    "    totaleTimeTAEAvg[k]= sum(totaleTimeTAE[k])/len(totaleTimeTAE[k])"
   ]
  },
  {
   "cell_type": "code",
   "execution_count": 17,
   "metadata": {},
   "outputs": [
    {
     "data": {
      "image/png": "[encoded data removed]",
      "text/plain": [
       "<Figure size 432x288 with 1 Axes>"
      ]
     },
     "metadata": {
      "needs_background": "light"
     },
     "output_type": "display_data"
    }
   ],
   "source": [
    "x = [0]*size\n",
    "for i in range(1,size): \n",
    "    x[i] = f(i,size)\n",
    "    \n",
    "\n",
    "plt.plot(x,totaleTimeTAEAvg, label=\"FaginsTA \")\n",
    "\n",
    "\n",
    "\n",
    "plt.ylabel('time to comput (in s)')\n",
    "plt.xlabel('epsiolon ')\n",
    "plt.legend(numpoints=2)\n",
    "plt.show()"
   ]
  },
  {
   "cell_type": "code",
   "execution_count": 22,
   "metadata": {},
   "outputs": [
    {
     "name": "stdout",
     "output_type": "stream",
     "text": [
      "adrien\n",
      "time0.0\n",
      "has the same tuples\n"
     ]
    }
   ],
   "source": [
    "import time\n",
    "from wordtraveller import faginstavf,naivetopk\n",
    "\n",
    "print(faginstavf.test())\n",
    "sartingTime = time.time()\n",
    "resutle = faginstavf.apply_fagins_ta(worldsFreq[30:35], Voc, filemanager, 0, 100)\n",
    "print ('time{}'.format(time.time() - sartingTime))\n",
    "\n",
    "\n",
    "\n",
    "aspected =  naivetopk.naive_top_k_algo(worldsFreq[30:35], Voc, filemanager, 0, 100)\n",
    "\n",
    "\n",
    "is_equal = True \n",
    "aspected.sort()\n",
    "resutle.sort()\n",
    "if len(aspected) == len(resutle) : \n",
    "    for i in range(0, len(resutle)): \n",
    "        if not (aspected[i][0]== resutle[i][0] and aspected[i][1]== resutle[i][1]):\n",
    "            is_equal= False\n",
    "else: \n",
    "    is_equal = False\n",
    "    \n",
    "if not is_equal :\n",
    "    print (\"has not the same tuples\")\n",
    "else: \n",
    "    print(\"has the same tuples\")\n",
    "    \n",
    "    \n",
    "\n",
    "   \n",
    "\n"
   ]
  },
  {
   "cell_type": "code",
   "execution_count": 6,
   "metadata": {},
   "outputs": [
    {
     "name": "stdout",
     "output_type": "stream",
     "text": [
      "(15.233997344970703, (241863, 'august'))\n"
     ]
    }
   ],
   "source": [
    "from sortedcontainers import SortedList\n",
    "sl = SortedList([(8.822835922241211, (215344, 'actually')), (13.092916488647461, (60492, 'august')), (15.08728313446045, (238923, 'party')), (15.233997344970703, (241863, 'august'))])\n",
    "\n",
    "print (sl.pop())"
   ]
  }
 ],
 "metadata": {
  "kernelspec": {
   "display_name": "Python 3",
   "language": "python",
   "name": "python3"
  },
  "language_info": {
   "codemirror_mode": {
    "name": "ipython",
    "version": 3
   },
   "file_extension": ".py",
   "mimetype": "text/x-python",
   "name": "python",
   "nbconvert_exporter": "python",
   "pygments_lexer": "ipython3",
   "version": "3.7.0"
  }
 },
 "nbformat": 4,
 "nbformat_minor": 2
}
