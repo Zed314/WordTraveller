{
 "cells": [
  {
   "cell_type": "markdown",
   "metadata": {},
   "source": [
    "# Benchmark for query algorthms\n",
    "\n",
    "## 1. getting the data"
   ]
  },
  {
   "cell_type": "code",
   "execution_count": 1,
   "metadata": {},
   "outputs": [],
   "source": [
    "## /!\\ to be executed only once \n",
    "import sys\n",
    "sys.path.insert(0, \"..\")"
   ]
  },
  {
   "cell_type": "code",
   "execution_count": 2,
   "metadata": {},
   "outputs": [
    {
     "name": "stdout",
     "output_type": "stream",
     "text": [
      "325354\n"
     ]
    }
   ],
   "source": [
    "from wordtraveller import filemanager as fm\n",
    "filemanager = fm.FileManager('allDocs' , '../workspace/'  )\n",
    "Voc = filemanager.read_vocabulary()\n",
    "\n",
    "print(len(Voc))"
   ]
  },
  {
   "cell_type": "code",
   "execution_count": 3,
   "metadata": {},
   "outputs": [
    {
     "name": "stdout",
     "output_type": "stream",
     "text": [
      "131896\n"
     ]
    }
   ],
   "source": [
    "print(Voc.pop(\"***NumberDifferentDocs***\"))"
   ]
  },
  {
   "cell_type": "markdown",
   "metadata": {},
   "source": [
    "## 2. vocabulary analysis \n",
    "### a) gets the ten most frequent words"
   ]
  },
  {
   "cell_type": "code",
   "execution_count": 4,
   "metadata": {},
   "outputs": [
    {
     "name": "stdout",
     "output_type": "stream",
     "text": [
      "[(131997, '-'), (113786, '<number>'), (85006, 'said'), (62077, 'one'), (55571, 'two'), (54144, '--'), (52693, 'would'), (51461, 'also'), (50276, 'last'), (47889, 'new')]\n"
     ]
    }
   ],
   "source": [
    "from sortedcontainers import SortedDict\n",
    "worldsFreq = [0]*len(Voc)\n",
    "priviousOffset = 0 \n",
    "first = True\n",
    "for i, world in enumerate(Voc): \n",
    "    worldsFreq[i] = (int(Voc[world]) -priviousOffset, world )\n",
    "    priviousOffset = int(Voc[world])\n",
    "worldsFreq.sort(reverse=True)\n",
    "print(worldsFreq[0:10])"
   ]
  },
  {
   "cell_type": "markdown",
   "metadata": {},
   "source": [
    "### b) Zipf's low"
   ]
  },
  {
   "cell_type": "code",
   "execution_count": 5,
   "metadata": {},
   "outputs": [
    {
     "data": {
      "text/plain": [
       "<Figure size 640x480 with 1 Axes>"
      ]
     },
     "metadata": {},
     "output_type": "display_data"
    }
   ],
   "source": [
    "import matplotlib.pyplot as plt\n",
    "\n",
    "freqs = [0]*len(Voc)\n",
    "priviousOffset = 0 \n",
    "for i, world in enumerate(Voc): \n",
    "    freqs[i] = (Voc[world]) -priviousOffset\n",
    "    priviousOffset = int(Voc[world])\n",
    "    \n",
    "freqs.sort(reverse=True)\n",
    "\n",
    "plt.plot(freqs)\n",
    "plt.ylabel('fréquence mot')\n",
    "plt.xscale('log')\n",
    "plt.yscale('log')\n",
    "plt.show()"
   ]
  },
  {
   "cell_type": "markdown",
   "metadata": {},
   "source": [
    "on peut classer les mot de la façon suivante: \n",
    "\n",
    "heighFreq = worldsFreq[10:100] # 50 000 > x > 15 000\n",
    "middelFreq = worldsFreq[1000:5000] # 4500 > x > 800 \n",
    "lowFreq =worldsFreq[50000: 150000] # 17 > x > 2 \n",
    "\n",
    "\n",
    "\n",
    "\n",
    "## 3. Evaluation des performances \n",
    "### a) analyse de l'evalusiont du temps de calcule en fonction du nombre de resutat attenu\n",
    "\n",
    "fonction nessaire préalablement"
   ]
  },
  {
   "cell_type": "code",
   "execution_count": 6,
   "metadata": {},
   "outputs": [],
   "source": [
    "def moyenne(tableau):\n",
    "    return sum(tableau, 0.0) / len(tableau)\n",
    "\n",
    "def variance(tableau):\n",
    "    m=moyenne(tableau)\n",
    "    return moyenne([(x-m)**2 for x in tableau])\n",
    "\n",
    "def ecartype(tableau):\n",
    "    return variance(tableau)**0.5\n",
    "\n",
    "def confiance(tableau,iteration):\n",
    "    return ecartype(tableau)*2*1.96/(iteration**0.5)"
   ]
  },
  {
   "cell_type": "code",
   "execution_count": 15,
   "metadata": {},
   "outputs": [],
   "source": [
    "## definition del'experiance \n",
    "\n",
    "nbIter = 150\n",
    "#List de liste de mots qui sera annanliser\n",
    "listOfWords = [[tuple[1]for tuple in worldsFreq[100:105]]for i in range(0, nbIter)]\n",
    "\n",
    "# nombre de mesure a éféctuer \n",
    "size = 10\n",
    "\n",
    "#Fonction qui a la énieme mesure associe la k=f(n) ou k est le nombre de document a casser \n",
    "def f(n): \n",
    "    return n"
   ]
  },
  {
   "cell_type": "code",
   "execution_count": 8,
   "metadata": {},
   "outputs": [
    {
     "name": "stdout",
     "output_type": "stream",
     "text": [
      "[nltk_data] Downloading package stopwords to\n",
      "[nltk_data]     C:\\Users\\adril\\AppData\\Local\\Temp...\n",
      "[nltk_data]   Package stopwords is already up-to-date!\n",
      "finiched\r"
     ]
    }
   ],
   "source": [
    "from wordtraveller import query\n",
    "from wordtraveller import faginstavf, faginstopkvf, naivetopk\n",
    "from sys import stdout\n",
    "import time \n",
    "\n",
    "\n",
    "\n",
    "\n",
    "\n",
    "\n",
    "totaleTimeTA = [[0]*len(listOfWords) for i in range(0,size)]\n",
    "totaleTimeNaiv = [[0]*len(listOfWords) for i in range(0,size)]\n",
    "totaleTimefag = [[0]*len(listOfWords) for i in range(0,size)]\n",
    "\n",
    "\n",
    "\n",
    "\n",
    "for i,words in enumerate(listOfWords):\n",
    "    for k in range(0,size):\n",
    "        print(\"{}% \".format(round((i*size+k)/(len(listOfWords)*size)*100)), end=\"\\r\")\n",
    "        sartingTime = time.time()\n",
    "        resutle = faginstavf.apply_fagins_ta(words, Voc, filemanager, 0, f(k))\n",
    "        totaleTimeTA[k][i] = time.time() - sartingTime\n",
    "\n",
    "        sartingTime = time.time()\n",
    "        resutle = faginstopkvf.apply_top_k_algo(words, Voc, filemanager, 0, f(k))\n",
    "        totaleTimefag[k][i] = time.time() - sartingTime\n",
    "\n",
    "        sartingTime = time.time()\n",
    "        naivetopk.apply_naive_top_k_algo(words, Voc, filemanager, 0,f(k) )\n",
    "        totaleTimeNaiv[k][i] = time.time() - sartingTime\n",
    "        \n",
    "print(\"finiched\", end=\"\\r\")\n",
    "\n"
   ]
  },
  {
   "cell_type": "code",
   "execution_count": 16,
   "metadata": {},
   "outputs": [
    {
     "data": {
      "image/png": "[encoded data removed]",
      "text/plain": [
       "<Figure size 432x288 with 1 Axes>"
      ]
     },
     "metadata": {
      "needs_background": "light"
     },
     "output_type": "display_data"
    }
   ],
   "source": [
    "totaleTimeTAAvg = [0]*size\n",
    "totaleTimeNaivAvg = [0]*size\n",
    "totaleTimefagAvg = [0]*size\n",
    "\n",
    "totaleTimeTAAConf = [0]*size\n",
    "totaleTimeNaivConf = [0]*size\n",
    "totaleTimefagConf = [0]*size\n",
    "\n",
    "\n",
    "for k in range(0,size):\n",
    "    totaleTimeTAAvg[k]= moyenne(totaleTimeTA[k])\n",
    "    totaleTimeNaivAvg[k]= moyenne(totaleTimeNaiv[k])\n",
    "    totaleTimefagAvg[k]= moyenne(totaleTimefag[k])\n",
    "    \n",
    "    totaleTimeTAAConf[k]= confiance(totaleTimeTA[k],nbIter)\n",
    "    totaleTimeNaivConf[k]= confiance(totaleTimeNaiv[k],nbIter)\n",
    "    totaleTimefagConf[k]= confiance(totaleTimefag[k],nbIter)\n",
    "    \n",
    "\n",
    "x = [0]*size\n",
    "for i in range(1,size): \n",
    "    x[i] = f(i)\n",
    "    \n",
    "\n",
    "plt.plot(x,totaleTimeTAAvg, label=\"FaginsTA \")\n",
    "plt.errorbar(x, totaleTimeTAAvg, yerr = totaleTimeTAAConf, color = '#297083', ls='none', lw = 1, capthick = 2)\n",
    "plt.plot(x,totaleTimeNaivAvg, label=\"naive topK \")\n",
    "plt.errorbar(x, totaleTimeNaivAvg, yerr = totaleTimeNaivConf, color = '#D97003', ls='none', lw = 1, capthick = 2)\n",
    "plt.plot(x,totaleTimefagAvg, label=\"Fagins topK\")\n",
    "plt.errorbar(x, totaleTimefagAvg, yerr = totaleTimefagConf, color = '#32CD32', ls='none', lw = 1, capthick = 2)\n",
    "\n",
    "plt.ylabel('time to comput (in s)')\n",
    "plt.xlabel('k')\n",
    "plt.legend(numpoints=2)\n",
    "plt.show()"
   ]
  },
  {
   "cell_type": "markdown",
   "metadata": {},
   "source": [
    "### b) analyse de l'évolution du temps de calcul en fonction du nombre de mot dans la recherche "
   ]
  },
  {
   "cell_type": "code",
   "execution_count": 17,
   "metadata": {},
   "outputs": [],
   "source": [
    "#Definition de l'experiance \n",
    "\n",
    "# define nition de la la liste de liste de mots a annalyser \n",
    "WordsList= [0]*1024\n",
    "for i in range(0,1024): \n",
    "    WordsList[i]= worldsFreq[10000+i][1]\n",
    "WordsList.sort(reverse=True)\n",
    "\n",
    "# nombre d'iteration de l'experiance \n",
    "nbIter = 15\n",
    "\n",
    "#nombre de mesure \n",
    "size = 20\n",
    "\n",
    "def f(k): \n",
    "    return k*k"
   ]
  },
  {
   "cell_type": "code",
   "execution_count": 10,
   "metadata": {},
   "outputs": [
    {
     "name": "stdout",
     "output_type": "stream",
     "text": [
      "finiched\r"
     ]
    }
   ],
   "source": [
    "from wordtraveller import query\n",
    "from wordtraveller import faginstavf, faginstopkvf, naivetopk\n",
    "from sys import stdout\n",
    "import time \n",
    "\n",
    "\n",
    "\n",
    "totaleTimeTAWords = [[0]*nbIter for i in range(0,size)]\n",
    "totaleTimefagWords = [[0]*nbIter for i in range(0,size)]\n",
    "totaleTimeNaivWords = [[0]*nbIter for i in range(0,size)]\n",
    "\n",
    "\n",
    "for i in range(0,nbIter):\n",
    "    for n in range(0,size):\n",
    "        words = WordsList[0:f(n)]\n",
    "        print(\"{}% \".format(round((n+i*nbIter)/(size*nbIter)*100)), end=\"\\r\")\n",
    "        sartingTime = time.time()\n",
    "        resutle = faginstavf.apply_fagins_ta(words, Voc, filemanager, 0, 30)\n",
    "        totaleTimeTAWords[n][i] = time.time() - sartingTime\n",
    "\n",
    "        sartingTime = time.time()\n",
    "        resutle = faginstopkvf.apply_top_k_algo(words, Voc, filemanager, 0, 30)\n",
    "        totaleTimefagWords[n][i] = time.time() - sartingTime\n",
    "\n",
    "        sartingTime = time.time()\n",
    "        naivetopk.apply_naive_top_k_algo(words, Voc, filemanager, 0, 30)\n",
    "        totaleTimeNaivWords[n][i] = time.time() - sartingTime\n",
    "        \n",
    "print(\"finiched\", end=\"\\r\")\n"
   ]
  },
  {
   "cell_type": "code",
   "execution_count": 18,
   "metadata": {},
   "outputs": [
    {
     "data": {
      "image/png": "[encoded data removed]",
      "text/plain": [
       "<Figure size 432x288 with 1 Axes>"
      ]
     },
     "metadata": {
      "needs_background": "light"
     },
     "output_type": "display_data"
    }
   ],
   "source": [
    "totaleTimeTAWordsAvg = [0]*size\n",
    "totaleTimefagWordsAvg = [0]*size\n",
    "totaleTimeNaivWordsAvg = [0]*size\n",
    "\n",
    "\n",
    "totaleTimeTAAWordsConf = [0]*size\n",
    "totaleTimefagWordsConf = [0]*size\n",
    "totaleTimeNaivWordsConf = [0]*size\n",
    "\n",
    "\n",
    "\n",
    "for k in range(0,size):\n",
    "    totaleTimeTAWordsAvg[k]= moyenne(totaleTimeTAWords[k])\n",
    "    totaleTimefagWordsAvg[k]= moyenne(totaleTimefagWords[k])\n",
    "    totaleTimeNaivWordsAvg[k]= moyenne(totaleTimeNaivWords[k])\n",
    "    \n",
    "    totaleTimeTAAWordsConf[k]= confiance(totaleTimeTAWords[k],nbIter)\n",
    "    totaleTimefagWordsConf[k]= confiance(totaleTimefagWords[k],nbIter)\n",
    "    totaleTimeNaivWordsConf[k]= confiance(totaleTimeNaivWords[k],nbIter)\n",
    "\n",
    "x = [0]*size\n",
    "for i in range(1,size): \n",
    "    x[i] = f(i)\n",
    "    \n",
    "\n",
    "\n",
    "plt.plot(x,totaleTimeTAWordsAvg, label=\"FaginsTA\")\n",
    "plt.errorbar(x, totaleTimeTAWordsAvg, yerr = totaleTimeTAAWordsConf, color = '#297083', ls='none', lw = 1, capthick = 2)\n",
    "plt.plot(x,totaleTimefagWordsAvg, label=\"Fagins topK\")\n",
    "plt.errorbar(x, totaleTimefagWordsAvg, yerr = totaleTimefagWordsConf, color = '#D97003', ls='none', lw = 1, capthick = 2)\n",
    "plt.plot(x,totaleTimeNaivWordsAvg, label=\"Naive\")\n",
    "plt.errorbar(x, totaleTimeNaivWordsAvg, yerr = totaleTimeNaivWordsConf, color = '#32CD32', ls='none', lw = 1, capthick = 2)\n",
    "\n",
    "plt.ylabel('time to comput (in s)')\n",
    "plt.xlabel('Number of words in the query')\n",
    "plt.legend(numpoints=2)\n",
    "plt.show()"
   ]
  },
  {
   "cell_type": "markdown",
   "metadata": {},
   "source": [
    "### c) analyse de l'évolution du temps de calcul en fonction de la tailles des posting lists"
   ]
  },
  {
   "cell_type": "code",
   "execution_count": 19,
   "metadata": {},
   "outputs": [],
   "source": [
    "#Definition de l'experiance \n",
    "\n",
    "#Nombre de mesures a effectuer. \n",
    "size = 15\n",
    "#nombre d'itération des messure. \n",
    "nbIter = 150\n",
    "#Nombre de mots par requets. \n",
    "nbOfwords = 2\n",
    "\n",
    "#fonction qui a la ieme mesure associe le nombre n=f(i) de document que l'on souhétes voire appartére dans la posting list. \n",
    "def f(i): \n",
    "    return i*i*100\n",
    "\n",
    "# define words \n",
    "ListWorlds = [[0] * nbOfwords for _ in range(size)]\n",
    "for i in range(1,size+1): \n",
    "    ListWorlds[i-1] = [world[1] for world in worldsFreq if world[0]>=f(i) and world[0]<=f(i)*1.10][0:nbOfwords]\n",
    "    if len(ListWorlds[i-1])!= nbOfwords : \n",
    "            print (\"Le jeux de donnée n'est pas reproésentatife in faut changer les paramters\")\n",
    "            print (\"les mots de taille {} poesent probleme seul {} / {}\".format(f(i),len(ListWorlds[i-1]),nbOfwords ))\n",
    "#print (ListWorlds)\n"
   ]
  },
  {
   "cell_type": "code",
   "execution_count": 12,
   "metadata": {},
   "outputs": [
    {
     "name": "stdout",
     "output_type": "stream",
     "text": [
      "finiched\r"
     ]
    }
   ],
   "source": [
    "from wordtraveller import query\n",
    "from wordtraveller import faginstavf, faginstopkvf,naivetopk\n",
    "import time \n",
    "\n",
    "\n",
    "\n",
    "\n",
    "totaleTimeTAPL = [[0]*nbIter for i in range(0,size)]\n",
    "totaleTimeNaivPL = [[0]*nbIter for i in range(0,size)]\n",
    "totaleTimefagPL = [[0]*nbIter for i in range(0,size)]\n",
    "\n",
    "\n",
    "for k in range(0,nbIter):\n",
    "    for n in range(0,size):\n",
    "        print(\"{}% \".format(round((k*size+n)/(nbIter*size)*100)), end=\"\\r\")\n",
    "        words = ListWorlds[n]\n",
    "\n",
    "\n",
    "\n",
    "\n",
    "        sartingTime = time.time()\n",
    "        faginstavf.apply_fagins_ta(words, Voc, filemanager, 0, 15)\n",
    "        totaleTimeTAPL[n][k] = time.time() - sartingTime\n",
    "\n",
    "        sartingTime = time.time()\n",
    "        faginstopkvf.apply_top_k_algo(words, Voc, filemanager, 0, 15)\n",
    "        totaleTimefagPL[n][k] = time.time() - sartingTime\n",
    "\n",
    "        sartingTime = time.time()\n",
    "        naivetopk.apply_naive_top_k_algo(words, Voc, filemanager, 0, 15 )\n",
    "        totaleTimeNaivPL[n][k] = time.time() - sartingTime\n",
    "print(\"finiched\", end=\"\\r\")\n",
    "\n",
    "\n"
   ]
  },
  {
   "cell_type": "code",
   "execution_count": 20,
   "metadata": {
    "scrolled": true
   },
   "outputs": [
    {
     "name": "stdout",
     "output_type": "stream",
     "text": [
      "[0, 100, 400, 900, 1600, 2500, 3600, 4900, 6400, 8100, 10000, 12100, 14400, 16900, 19600]\n"
     ]
    },
    {
     "data": {
      "image/png": "[encoded data removed]",
      "text/plain": [
       "<Figure size 432x288 with 1 Axes>"
      ]
     },
     "metadata": {
      "needs_background": "light"
     },
     "output_type": "display_data"
    }
   ],
   "source": [
    "totaleTimeTAPLAvg = [0]*size\n",
    "totaleTimefagPLAvg = [0]*size\n",
    "totaleTimeNaivPLAvg = [0]*size\n",
    "\n",
    "confianceTotaleTimeTAPL = [0]*size\n",
    "confianceTimefagPL = [0]*size\n",
    "confianceTimeNaivPL = [0]*size\n",
    "\n",
    "for k in range(0,size):\n",
    "    totaleTimeTAPLAvg[k]= moyenne(totaleTimeTAPL[k])\n",
    "    totaleTimefagPLAvg[k]= moyenne(totaleTimefagPL[k])\n",
    "    totaleTimeNaivPLAvg[k]= moyenne(totaleTimeNaivPL[k])\n",
    "\n",
    "for k in range(0,size):\n",
    "    confianceTotaleTimeTAPL[k]= confiance(totaleTimeTAPL[k],nbIter)\n",
    "    confianceTimefagPL[k]= confiance(totaleTimefagPL[k],nbIter)\n",
    "    confianceTimeNaivPL[k]= confiance(totaleTimeNaivPL[k],nbIter)\n",
    "\n",
    "x = [0]*size\n",
    "for i in range(1,size): \n",
    "    x[i] = f(i)\n",
    "\n",
    "print (x)\n",
    "plt.plot(x,totaleTimeTAPLAvg, label=\"FaginsTA\")\n",
    "plt.errorbar(x, totaleTimeTAPLAvg, yerr = confianceTotaleTimeTAPL, color = '#297083', ls='none', lw = 1, capthick = 2)\n",
    "plt.plot(x,totaleTimefagPLAvg, label=\"Fagins topK\") \n",
    "plt.errorbar(x, totaleTimefagPLAvg, yerr = confianceTimefagPL, color = '#D97003', ls='none', lw = 1, capthick = 2)\n",
    "plt.plot(x,totaleTimeNaivPLAvg, label=\"naive\")\n",
    "plt.errorbar(x, totaleTimeNaivPLAvg, yerr = confianceTimeNaivPL, color = '#32CD32', ls='none', lw = 1, capthick = 2)\n",
    "\n",
    "\n",
    "plt.ylabel('time to comput (in s)')\n",
    "plt.xlabel('Number of documents in the posting list')\n",
    "plt.legend(numpoints=2)\n",
    "\n",
    "plt.show()\n",
    "\n"
   ]
  },
  {
   "cell_type": "markdown",
   "metadata": {},
   "source": [
    "### d) analyse de l'evalusiont du temps de calcule en fonction de epsilon pour TA"
   ]
  },
  {
   "cell_type": "code",
   "execution_count": 21,
   "metadata": {},
   "outputs": [],
   "source": [
    "#definition de l'experiance \n",
    "\n",
    "#nombre d'iteration de l'experiances \n",
    "nbIter= 200\n",
    "\n",
    "\n",
    "listOfWords = [[tuple[1]for tuple in worldsFreq[500:510]] for i in range(0,nbIter)]\n",
    "\n",
    "\n",
    "\n",
    "\n",
    "\n",
    "# nombre de mesures \n",
    "size = 20\n",
    "\n",
    "def f(k,size): \n",
    "    return k/3/size\n"
   ]
  },
  {
   "cell_type": "code",
   "execution_count": 22,
   "metadata": {},
   "outputs": [
    {
     "name": "stdout",
     "output_type": "stream",
     "text": [
      "finiched\r"
     ]
    }
   ],
   "source": [
    "from wordtraveller import query\n",
    "from wordtraveller import faginstavf, faginstopkvf, naivetopk\n",
    "from sys import stdout\n",
    "import time \n",
    "\n",
    "\n",
    "\n",
    "\n",
    "\n",
    "\n",
    "totaleTimeTAE = [[0]*len(listOfWords) for i in range(0,size)]\n",
    "\n",
    "\n",
    "\n",
    "for i,words in enumerate(listOfWords):\n",
    "    for k in range(0,size):\n",
    "        \n",
    "        print(\"{}% \".format(round((i*size+k)/(len(listOfWords)*size)*100)), end=\"\\r\")\n",
    "        sartingTime = time.time()\n",
    "        resutle = faginstavf.apply_fagins_ta(words, Voc, filemanager, f(k,size), 20)\n",
    "        totaleTimeTAE[k][i] = time.time() - sartingTime\n",
    "\n",
    "        \n",
    "print(\"finiched\", end=\"\\r\")\n",
    "\n"
   ]
  },
  {
   "cell_type": "code",
   "execution_count": 23,
   "metadata": {},
   "outputs": [
    {
     "data": {
      "image/png": "[encoded data removed]",
      "text/plain": [
       "<Figure size 432x288 with 1 Axes>"
      ]
     },
     "metadata": {
      "needs_background": "light"
     },
     "output_type": "display_data"
    }
   ],
   "source": [
    "totaleTimeTAEAvg = [0]*size\n",
    "totaleTimeTAEConfiance = [0]*size\n",
    "for k in range(0,size):\n",
    "    totaleTimeTAEAvg[k]= moyenne(totaleTimeTAE[k])\n",
    "    totaleTimeTAEConfiance[k]= confiance(totaleTimeTAE[k], len(listOfWords))\n",
    "\n",
    "x = [0]*size\n",
    "for i in range(1,size): \n",
    "    x[i] = f(i,size)\n",
    "    \n",
    "\n",
    "plt.plot(x,totaleTimeTAEAvg, label=\"FaginsTA \")\n",
    "plt.errorbar(x, totaleTimeTAEAvg, yerr = totaleTimeTAEConfiance, color = '#297083', ls='none', lw = 1, capthick = 2)\n",
    "\n",
    "\n",
    "plt.ylabel('time to comput (in s)')\n",
    "plt.xlabel('epsiolon ')\n",
    "plt.legend(numpoints=2)\n",
    "plt.show()"
   ]
  }
 ],
 "metadata": {
  "kernelspec": {
   "display_name": "Python 3",
   "language": "python",
   "name": "python3"
  },
  "language_info": {
   "codemirror_mode": {
    "name": "ipython",
    "version": 3
   },
   "file_extension": ".py",
   "mimetype": "text/x-python",
   "name": "python",
   "nbconvert_exporter": "python",
   "pygments_lexer": "ipython3",
   "version": "3.7.0"
  }
 },
 "nbformat": 4,
 "nbformat_minor": 2
}
