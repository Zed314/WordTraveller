{
 "cells": [
  {
   "cell_type": "markdown",
   "metadata": {},
   "source": [
    "# Benchmark for query algorthems\n",
    "\n",
    "## 1. getting the data"
   ]
  },
  {
   "cell_type": "code",
   "execution_count": 1,
   "metadata": {},
   "outputs": [],
   "source": [
    "## /!\\ to be executed only onses \n",
    "import sys\n",
    "sys.path.insert(0, \"..\")"
   ]
  },
  {
   "cell_type": "code",
   "execution_count": 2,
   "metadata": {},
   "outputs": [
    {
     "name": "stdout",
     "output_type": "stream",
     "text": [
      "325354\n"
     ]
    }
   ],
   "source": [
    "from wordtraveller import filemanager as fm\n",
    "filemanager = fm.FileManager('test1' , '../workspace/'  )\n",
    "Voc = filemanager.read_vocabulary()\n",
    "\n",
    "print(len(Voc))"
   ]
  },
  {
   "cell_type": "code",
   "execution_count": 3,
   "metadata": {},
   "outputs": [
    {
     "name": "stdout",
     "output_type": "stream",
     "text": [
      "131896\n"
     ]
    }
   ],
   "source": [
    "print(Voc.pop(\"***NumberDifferentDocs***\"))"
   ]
  },
  {
   "cell_type": "markdown",
   "metadata": {},
   "source": [
    "## 2. vocabulary analythis \n",
    "### a) gets the ten most frequant words"
   ]
  },
  {
   "cell_type": "code",
   "execution_count": 8,
   "metadata": {},
   "outputs": [
    {
     "name": "stdout",
     "output_type": "stream",
     "text": [
      "[(131997, '-'), (113786, '<number>'), (85006, 'said'), (62077, 'one'), (55571, 'two'), (54144, '--'), (52693, 'would'), (51461, 'also'), (50276, 'last'), (47889, 'new')]\n"
     ]
    }
   ],
   "source": [
    "from sortedcontainers import SortedDict\n",
    "worldsFreq = [0]*len(Voc)\n",
    "priviousOffset = 0 \n",
    "first = True\n",
    "for i, world in enumerate(Voc): \n",
    "    worldsFreq[i] = (int(Voc[world]) -priviousOffset, world )\n",
    "    priviousOffset = int(Voc[world])\n",
    "worldsFreq.sort(reverse=True)\n",
    "print(worldsFreq[0:10])"
   ]
  },
  {
   "cell_type": "markdown",
   "metadata": {},
   "source": [
    "### b) Zipf's low"
   ]
  },
  {
   "cell_type": "code",
   "execution_count": 10,
   "metadata": {},
   "outputs": [
    {
     "data": {
      "image/png": "[encoded data removed]",
      "text/plain": [
       "<Figure size 432x288 with 1 Axes>"
      ]
     },
     "metadata": {
      "needs_background": "light"
     },
     "output_type": "display_data"
    }
   ],
   "source": [
    "import matplotlib.pyplot as plt\n",
    "\n",
    "freqs = [0]*len(Voc)\n",
    "priviousOffset = 0 \n",
    "for i, world in enumerate(Voc): \n",
    "    freqs[i] = (Voc[world]) -priviousOffset\n",
    "    priviousOffset = int(Voc[world])\n",
    "    \n",
    "freqs.sort(reverse=True)\n",
    "\n",
    "plt.plot(freqs)\n",
    "plt.ylabel('frequanc mot')\n",
    "plt.xscale('log')\n",
    "plt.yscale('log')\n",
    "plt.show()"
   ]
  },
  {
   "cell_type": "markdown",
   "metadata": {},
   "source": [
    "on peut classer les mot de la fasson suivante: \n",
    "\n",
    "heighFreq = worldsFreq[10:100] # 50 000 > x > 15 000\n",
    "middelFreq = worldsFreq[1000:5000] # 4500 > x > 800 \n",
    "lowFreq =worldsFreq[50000: 150000] # 17 > x > 2 \n",
    "\n",
    "\n",
    "\n",
    "\n",
    "## 3. Evaluation des performances \n",
    "### a) analyse de l'evalusiont du temps de calcule en fonction du nombre de resutat attenu\n",
    "\n",
    "l'annalyse peut étres fait sur plusieur groups de mots: \n",
    "\n",
    "(4434, 'believes') (2077, 'coalition') (1434, 'matt')\n",
    "(6411, 'build')\n",
    "(7501, 'party') (6599, 'actually')(3802, 'jail') (4101, 'august')"
   ]
  },
  {
   "cell_type": "code",
   "execution_count": 35,
   "metadata": {},
   "outputs": [
    {
     "name": "stdout",
     "output_type": "stream",
     "text": [
      "(1434, 'matt')\n",
      "['believes', 'avoid']\n",
      "[(4434, 'believes'), (4429, 'avoid')]\n",
      "time for creating posting lists 0.05399060249328613\n",
      "TA donne\n"
     ]
    }
   ],
   "source": [
    "from wordtraveller import query\n",
    "from wordtraveller import faginsta, faginstopk\n",
    "import time \n",
    "\n",
    "print(worldsFreq[3200]) \n",
    "\n",
    "\n",
    "words = [tuple[1]for tuple in worldsFreq[1000:1002]]\n",
    "print (words)\n",
    "#words= ['build']\n",
    "#words= ['party','actually','jail','august']\n",
    "print(worldsFreq[1000:1002])\n",
    "\n",
    "\n",
    "# getting the posting lists for a set of words\n",
    "sartingTime = time.time()\n",
    "posting_lists_ordered_by_id = SortedDict()\n",
    "posting_lists_ordered_by_score = SortedDict()\n",
    "for word in words:\n",
    "    orderedById, orderedByScore = query.get_posting_list(\n",
    "    Voc, word, filemanager, returnPostingListOrderedByScore = True)\n",
    "    if orderedById and orderedByScore:\n",
    "        posting_lists_ordered_by_score[word] = orderedByScore\n",
    "        posting_lists_ordered_by_id[word] = orderedById\n",
    "print( \"time for creating posting lists {}\".format(time.time() - sartingTime))\n",
    "\n",
    "\n",
    "# get the time        \n",
    "totaleTimeTA = [0]*30\n",
    "for k in range(1,30):\n",
    "    sartingTime = time.time()\n",
    "    resutle = faginstavf.apply_fagins_ta(words, Voc, filemanager, 0, k*k)\n",
    "    totaleTimeTA[k] = time.time() - sartingTime\n",
    "print( 'TA donne')\n",
    "#totaleTimefag = [0]*10\n",
    "#for k in range(1,10):   \n",
    "#    sartingTime = time.time()\n",
    "#    faginstopk.find_fagins_top_k(posting_lists_ordered_by_id, posting_lists_ordered_by_score, k*k )\n",
    "#    totaleTimefag[k] = time.time() - sartingTime\n",
    "#print( 'Fag donne')"
   ]
  },
  {
   "cell_type": "code",
   "execution_count": 36,
   "metadata": {},
   "outputs": [
    {
     "name": "stdout",
     "output_type": "stream",
     "text": [
      "Anive donne\n"
     ]
    }
   ],
   "source": [
    "from wordtraveller import naivetopk\n",
    "totaleTimeNaiv = [0]*30\n",
    "for k in range(1,30):   \n",
    "    sartingTime = time.time()\n",
    "    naivetopk.naive_top_k_algo(words, Voc, filemanager, 0, k*k )\n",
    "\n",
    "    totaleTimeNaiv[k] = time.time() - sartingTime\n",
    "print( 'Anive donne')\n",
    "\n",
    "#totaleTimefagFull = [0]*10\n",
    "#for k in range(1,10):   \n",
    "#    sartingTime = time.time()\n",
    "#    faginstopk.apply_top_k_algo(words, Voc, filemanager, 0 , k*k)\n",
    "#    totaleTimefagFull[k] = time.time() - sartingTime\n",
    "#print( 'Fag donne')\n",
    "\n",
    "#totaleTimeTAFull = [0]*10\n",
    "#for k in range(1,10):\n",
    "#    sartingTime = time.time()\n",
    "#    faginsta.apply_fagins_ta(words, Voc, filemanager, 0, k*k)\n",
    "#    totaleTimeTAFull[k] = time.time() - sartingTime\n",
    "#print( 'TA donne')"
   ]
  },
  {
   "cell_type": "code",
   "execution_count": 37,
   "metadata": {},
   "outputs": [
    {
     "name": "stdout",
     "output_type": "stream",
     "text": [
      "[0, 1, 4, 9, 16, 25, 36, 49, 64, 81, 100, 121, 144, 169, 196, 225, 256, 289, 324, 361, 400, 441, 484, 529, 576, 625, 676, 729, 784, 841]\n"
     ]
    },
    {
     "data": {
      "image/png": "[encoded data removed]",
      "text/plain": [
       "<Figure size 432x288 with 1 Axes>"
      ]
     },
     "metadata": {
      "needs_background": "light"
     },
     "output_type": "display_data"
    }
   ],
   "source": [
    "x = [0]*30\n",
    "for i in range(1,30): \n",
    "    x[i] = i*i\n",
    "    \n",
    "\n",
    "print (x)\n",
    "plt.plot(x,totaleTimeTA, label=\"FaginsTA Full\")\n",
    "#plt.plot(x,totaleTimefag, label=\"Fagins topK\")\n",
    "#lt.plot(x,totaleTimeTAFull, label=\"FaginsTA Full\")\n",
    "#lt.plot(x,totaleTimefagFull, label=\"Fagins topK Full\")\n",
    "plt.plot(x,totaleTimeNaiv, label=\"naive topK Full\")\n",
    "\n",
    "plt.ylabel('time to comput (in s)')\n",
    "plt.xlabel('k')\n",
    "plt.legend(numpoints=2)\n",
    "plt.show()"
   ]
  },
  {
   "cell_type": "markdown",
   "metadata": {},
   "source": [
    "### b) analyse de l'evalusiont du temps de calcule en fonction du nombre de mot dans la recherche "
   ]
  },
  {
   "cell_type": "code",
   "execution_count": 26,
   "metadata": {},
   "outputs": [
    {
     "name": "stdout",
     "output_type": "stream",
     "text": [
      "time for creating posting lists 0.0\n",
      "time for creating posting lists 0.007981300354003906\n",
      "time for creating posting lists 0.009990453720092773\n",
      "time for creating posting lists 0.10933899879455566\n",
      "time for creating posting lists 0.03529095649719238\n",
      "time for creating posting lists 0.06855964660644531\n",
      "time for creating posting lists 0.07222557067871094\n",
      "time for creating posting lists 0.0962975025177002\n",
      "time for creating posting lists 0.198822021484375\n",
      "time for creating posting lists 0.1602339744567871\n"
     ]
    }
   ],
   "source": [
    "\n",
    "from wordtraveller import query\n",
    "from wordtraveller import faginsta, faginstopk\n",
    "import time \n",
    "\n",
    "# define words \n",
    "WordsList= [0]*100\n",
    "for i in range(0,100): \n",
    "    WordsList[i]= worldsFreq[10000+i][1]\n",
    "WordsList.sort(reverse=True)\n",
    "\n",
    "totaleTimeTAWords = [0]*10\n",
    "totaleTimefagWords = [0]*10\n",
    "totaleTimeNaivWords = [0]*10\n",
    "\n",
    "for n in range(0,10):\n",
    "    words = WordsList[0:n*n]\n",
    "    # getting the posting lists for a set of words\n",
    "    sartingTime = time.time()\n",
    "    posting_lists_ordered_by_id = SortedDict()\n",
    "    posting_lists_ordered_by_score = SortedDict()\n",
    "    for word in words:\n",
    "        orderedById, orderedByScore = query.get_posting_list(\n",
    "        Voc, word, filemanager, returnPostingListOrderedByScore = True)\n",
    "        if orderedById and orderedByScore:\n",
    "            posting_lists_ordered_by_score[word] = orderedByScore\n",
    "            posting_lists_ordered_by_id[word] = orderedById\n",
    "    print( \"time for creating posting lists {}\".format(time.time() - sartingTime))\n",
    "    \n",
    "          \n",
    "    \n",
    "    sartingTime = time.time()\n",
    "    faginsta.find_fagins_ta(posting_lists_ordered_by_id, posting_lists_ordered_by_score, 0, 30 )\n",
    "    totaleTimeTAWords[n] = time.time() - sartingTime\n",
    "\n",
    "    sartingTime = time.time()\n",
    "    faginstopk.find_fagins_top_k(posting_lists_ordered_by_id, posting_lists_ordered_by_score, 30 )\n",
    "    totaleTimefagWords[n] = time.time() - sartingTime\n",
    "    \n",
    "    resutle = faginstavf.apply_fagins_ta(['party','actually','jail','august'], Voc, filemanager, 0, 100)\n",
    "    \n",
    "    sartingTime = time.time()\n",
    "    naivetopk.naive_top_k_algo(words, Voc, filemanager, 0, 30 )\n",
    "    totaleTimeNaivWords[n] = time.time() - sartingTime\n",
    "\n",
    "\n",
    "\n",
    "\n"
   ]
  },
  {
   "cell_type": "code",
   "execution_count": 25,
   "metadata": {},
   "outputs": [
    {
     "name": "stdout",
     "output_type": "stream",
     "text": [
      "[0, 1, 4, 9, 16, 25, 36, 49, 64, 81]\n"
     ]
    },
    {
     "ename": "NameError",
     "evalue": "name 'totaleTimeTAWords' is not defined",
     "output_type": "error",
     "traceback": [
      "\u001b[1;31m---------------------------------------------------------------------------\u001b[0m",
      "\u001b[1;31mNameError\u001b[0m                                 Traceback (most recent call last)",
      "\u001b[1;32m<ipython-input-25-a0fbd98c2cdf>\u001b[0m in \u001b[0;36m<module>\u001b[1;34m\u001b[0m\n\u001b[0;32m      5\u001b[0m \u001b[1;33m\u001b[0m\u001b[0m\n\u001b[0;32m      6\u001b[0m \u001b[0mprint\u001b[0m \u001b[1;33m(\u001b[0m\u001b[0mx\u001b[0m\u001b[1;33m)\u001b[0m\u001b[1;33m\u001b[0m\u001b[0m\n\u001b[1;32m----> 7\u001b[1;33m \u001b[0mplt\u001b[0m\u001b[1;33m.\u001b[0m\u001b[0mplot\u001b[0m\u001b[1;33m(\u001b[0m\u001b[0mx\u001b[0m\u001b[1;33m,\u001b[0m\u001b[0mtotaleTimeTAWords\u001b[0m\u001b[1;33m,\u001b[0m \u001b[0mlabel\u001b[0m\u001b[1;33m=\u001b[0m\u001b[1;34m\"FaginsTA\"\u001b[0m\u001b[1;33m)\u001b[0m\u001b[1;33m\u001b[0m\u001b[0m\n\u001b[0m\u001b[0;32m      8\u001b[0m \u001b[0mplt\u001b[0m\u001b[1;33m.\u001b[0m\u001b[0mplot\u001b[0m\u001b[1;33m(\u001b[0m\u001b[0mx\u001b[0m\u001b[1;33m,\u001b[0m\u001b[0mtotaleTimefagWords\u001b[0m\u001b[1;33m,\u001b[0m \u001b[0mlabel\u001b[0m\u001b[1;33m=\u001b[0m\u001b[1;34m\"Fagins topK\"\u001b[0m\u001b[1;33m)\u001b[0m\u001b[1;33m\u001b[0m\u001b[0m\n\u001b[0;32m      9\u001b[0m \u001b[1;33m\u001b[0m\u001b[0m\n",
      "\u001b[1;31mNameError\u001b[0m: name 'totaleTimeTAWords' is not defined"
     ]
    }
   ],
   "source": [
    "x = [0]*10\n",
    "for i in range(1,10): \n",
    "    x[i] = i*i\n",
    "    \n",
    "\n",
    "print (x)\n",
    "plt.plot(x,totaleTimeTAWords, label=\"FaginsTA\")\n",
    "plt.plot(x,totaleTimefagWords, label=\"Fagins topK\")\n",
    "\n",
    "\n",
    "plt.ylabel('time to comput (in s)')\n",
    "plt.xlabel('n Nember of words in query')\n",
    "plt.legend(numpoints=2)\n",
    "plt.show()"
   ]
  },
  {
   "cell_type": "markdown",
   "metadata": {},
   "source": [
    "### c) analyse de l'evalusiont du temps de calcule en fonction de la tailles des posting lists"
   ]
  },
  {
   "cell_type": "code",
   "execution_count": 8,
   "metadata": {},
   "outputs": [
    {
     "name": "stdout",
     "output_type": "stream",
     "text": [
      "[nltk_data] Downloading package stopwords to\n",
      "[nltk_data]     C:\\Users\\adril\\AppData\\Local\\Temp...\n",
      "[nltk_data]   Package stopwords is already up-to-date!\n",
      "[['woodstock', 'wits'], ['weed', 'uh'], ['vertical', 'troublesome'], ['woody', 'turnover'], ['reopened', 'mira'], ['wives', 'scouts'], ['surplus', 'province'], ['withdrawal', 'trends'], ['trials', 'single-family'], ['loves', 'electronics']]\n",
      "time for creating posting lists 0.009007692337036133\n",
      "time for creating posting lists 0.001994609832763672\n",
      "time for creating posting lists 0.0019931793212890625\n",
      "time for creating posting lists 0.006272554397583008\n",
      "time for creating posting lists 0.006012678146362305\n",
      "time for creating posting lists 0.007979393005371094\n",
      "time for creating posting lists 0.008753538131713867\n",
      "time for creating posting lists 0.009363174438476562\n",
      "time for creating posting lists 0.008299827575683594\n",
      "time for creating posting lists 0.008942842483520508\n"
     ]
    }
   ],
   "source": [
    "from wordtraveller import query\n",
    "from wordtraveller import faginsta, faginstopk,naivetopk\n",
    "import time \n",
    "\n",
    "# define words \n",
    "ListWorlds = [[0] * 2 for _ in range(10)]\n",
    "for i in range(1,11): \n",
    "    ListWorlds[i-1] = [world[1] for world in worldsFreq if world[0]==i*100][0:2]\n",
    "print (ListWorlds)\n",
    "\n",
    "totaleTimeTAPL = [0]*10\n",
    "totaleTimefagPL = [0]*10\n",
    "totaleTimeNaivPL = [0]*10\n",
    "\n",
    "for n in range(0,10):\n",
    "    words = ListWorlds[n]\n",
    "    # getting the posting lists for a set of words\n",
    "    sartingTime = time.time()\n",
    "    posting_lists_ordered_by_id = SortedDict()\n",
    "    posting_lists_ordered_by_score = SortedDict()\n",
    "    for word in words:\n",
    "        orderedById, orderedByScore = query.get_posting_list(\n",
    "        Voc, word, filemanager, returnPostingListOrderedByScore = True)\n",
    "        if orderedById and orderedByScore:\n",
    "            posting_lists_ordered_by_score[word] = orderedByScore\n",
    "            posting_lists_ordered_by_id[word] = orderedById\n",
    "    print( \"time for creating posting lists {}\".format(time.time() - sartingTime))\n",
    "    \n",
    "          \n",
    "    \n",
    "    sartingTime = time.time()\n",
    "    faginsta.find_fagins_ta(posting_lists_ordered_by_id, posting_lists_ordered_by_score, 0, 15 )\n",
    "    totaleTimeTAPL[n] = time.time() - sartingTime\n",
    "\n",
    "    sartingTime = time.time()\n",
    "    faginstopk.find_fagins_top_k(posting_lists_ordered_by_id, posting_lists_ordered_by_score, 15 )\n",
    "    totaleTimefagPL[n] = time.time() - sartingTime\n",
    "    \n",
    "    sartingTime = time.time()\n",
    "    naivetopk.naive_top_k_algo(words, Voc, filemanager, 0, 15 )\n",
    "    totaleTimeNaivPL[n] = time.time() - sartingTime\n",
    "\n",
    "\n",
    "\n",
    "\n"
   ]
  },
  {
   "cell_type": "code",
   "execution_count": 9,
   "metadata": {},
   "outputs": [
    {
     "name": "stdout",
     "output_type": "stream",
     "text": [
      "[0, 100, 200, 300, 400, 500, 600, 700, 800, 900]\n",
      "[0.009974002838134766, 0.030919551849365234, 0.08078455924987793, 0.1246638298034668, 0.010941743850708008, 0.015955209732055664, 0.016985177993774414, 0.7987916469573975, 0.032911062240600586, 0.028920650482177734]\n"
     ]
    },
    {
     "data": {
      "image/png": "[encoded data removed]",
      "text/plain": [
       "<Figure size 432x288 with 1 Axes>"
      ]
     },
     "metadata": {
      "needs_background": "light"
     },
     "output_type": "display_data"
    }
   ],
   "source": [
    "x = [0]*10\n",
    "for i in range(1,10): \n",
    "    x[i] = i*100\n",
    "    \n",
    "\n",
    "print (x)\n",
    "plt.plot(x,totaleTimeTAPL, label=\"FaginsTA\")\n",
    "plt.plot(x,totaleTimefagPL, label=\"Fagins topK\") \n",
    "plt.plot(x,totaleTimeNaivPL, label=\"naive\")\n",
    "print(totaleTimeTAPL)\n",
    "\n",
    "\n",
    "plt.ylabel('time to comput (in s)')\n",
    "plt.xlabel('n Nember of words in query')\n",
    "plt.legend(numpoints=2)\n",
    "plt.show()\n",
    "\n"
   ]
  },
  {
   "cell_type": "code",
   "execution_count": 6,
   "metadata": {},
   "outputs": [
    {
     "name": "stdout",
     "output_type": "stream",
     "text": [
      "adrien\n",
      "time0.20046281814575195\n",
      "has the same tuples\n"
     ]
    }
   ],
   "source": [
    "import time\n",
    "from wordtraveller import faginstavf,naivetopk\n",
    "\n",
    "print(faginstavf.test())\n",
    "sartingTime = time.time()\n",
    "resutle = faginstavf.apply_fagins_ta(['party','actually','jail','august'], Voc, filemanager, 0, 100)\n",
    "print ('time{}'.format(time.time() - sartingTime))\n",
    "\n",
    "\n",
    "\n",
    "aspected =  naivetopk.naive_top_k_algo(['party','actually','jail','august'], Voc, filemanager, 0, 100)\n",
    "\n",
    "\n",
    "is_equal = True \n",
    "aspected.sort()\n",
    "resutle.sort()\n",
    "if len(aspected) == len(resutle) : \n",
    "    for i in range(0, len(resutle)): \n",
    "        if not (aspected[i][0]== resutle[i][0] and aspected[i][1]== resutle[i][1]):\n",
    "            is_equal= False\n",
    "else: \n",
    "    is_equal = False\n",
    "    \n",
    "if not is_equal :\n",
    "    print (\"has not the same tuples\")\n",
    "else: \n",
    "    print(\"has the same tuples\")\n",
    "    \n",
    "    \n",
    "\n",
    "   \n",
    "\n"
   ]
  },
  {
   "cell_type": "code",
   "execution_count": 6,
   "metadata": {},
   "outputs": [
    {
     "name": "stdout",
     "output_type": "stream",
     "text": [
      "(15.233997344970703, (241863, 'august'))\n"
     ]
    }
   ],
   "source": [
    "from sortedcontainers import SortedList\n",
    "sl = SortedList([(8.822835922241211, (215344, 'actually')), (13.092916488647461, (60492, 'august')), (15.08728313446045, (238923, 'party')), (15.233997344970703, (241863, 'august'))])\n",
    "\n",
    "print (sl.pop())"
   ]
  },
  {
   "cell_type": "code",
   "execution_count": 15,
   "metadata": {},
   "outputs": [
    {
     "data": {
      "text/plain": [
       "(17, 'entrust')"
      ]
     },
     "execution_count": 15,
     "metadata": {},
     "output_type": "execute_result"
    }
   ],
   "source": [
    "worldsFreq[50002]"
   ]
  }
 ],
 "metadata": {
  "kernelspec": {
   "display_name": "Python 3",
   "language": "python",
   "name": "python3"
  },
  "language_info": {
   "codemirror_mode": {
    "name": "ipython",
    "version": 3
   },
   "file_extension": ".py",
   "mimetype": "text/x-python",
   "name": "python",
   "nbconvert_exporter": "python",
   "pygments_lexer": "ipython3",
   "version": "3.7.0"
  }
 },
 "nbformat": 4,
 "nbformat_minor": 2
}
