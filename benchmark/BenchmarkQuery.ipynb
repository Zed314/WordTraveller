{
 "cells": [
  {
   "cell_type": "markdown",
   "metadata": {},
   "source": [
    "# Benchmark for query algorthms\n",
    "\n",
    "## 1. getting the data"
   ]
  },
  {
   "cell_type": "code",
   "execution_count": 1,
   "metadata": {},
   "outputs": [],
   "source": [
    "## /!\\ to be executed only once \n",
    "import sys\n",
    "sys.path.insert(0, \"..\")"
   ]
  },
  {
   "cell_type": "code",
   "execution_count": 2,
   "metadata": {},
   "outputs": [
    {
     "name": "stdout",
     "output_type": "stream",
     "text": [
      "325354\n"
     ]
    }
   ],
   "source": [
    "from wordtraveller import filemanager as fm\n",
    "filemanager = fm.FileManager('allDocs' , '../workspace/'  )\n",
    "Voc = filemanager.read_vocabulary()\n",
    "\n",
    "print(len(Voc))"
   ]
  },
  {
   "cell_type": "code",
   "execution_count": 3,
   "metadata": {},
   "outputs": [
    {
     "name": "stdout",
     "output_type": "stream",
     "text": [
      "131896\n"
     ]
    }
   ],
   "source": [
    "print(Voc.pop(\"***NumberDifferentDocs***\"))"
   ]
  },
  {
   "cell_type": "markdown",
   "metadata": {},
   "source": [
    "## 2. vocabulary analysis \n",
    "### a) gets the ten most frequent words"
   ]
  },
  {
   "cell_type": "code",
   "execution_count": 4,
   "metadata": {},
   "outputs": [
    {
     "name": "stdout",
     "output_type": "stream",
     "text": [
      "[(131997, '-'), (113786, '<number>'), (85006, 'said'), (62077, 'one'), (55571, 'two'), (54144, '--'), (52693, 'would'), (51461, 'also'), (50276, 'last'), (47889, 'new')]\n"
     ]
    }
   ],
   "source": [
    "from sortedcontainers import SortedDict\n",
    "worldsFreq = [0]*len(Voc)\n",
    "priviousOffset = 0 \n",
    "first = True\n",
    "for i, world in enumerate(Voc): \n",
    "    worldsFreq[i] = (int(Voc[world]) -priviousOffset, world )\n",
    "    priviousOffset = int(Voc[world])\n",
    "worldsFreq.sort(reverse=True)\n",
    "print(worldsFreq[0:10])"
   ]
  },
  {
   "cell_type": "markdown",
   "metadata": {},
   "source": [
    "### b) Zipf's low"
   ]
  },
  {
   "cell_type": "code",
   "execution_count": 5,
   "metadata": {},
   "outputs": [
    {
     "data": {
      "text/plain": [
       "<Figure size 640x480 with 1 Axes>"
      ]
     },
     "metadata": {},
     "output_type": "display_data"
    }
   ],
   "source": [
    "import matplotlib.pyplot as plt\n",
    "\n",
    "freqs = [0]*len(Voc)\n",
    "priviousOffset = 0 \n",
    "for i, world in enumerate(Voc): \n",
    "    freqs[i] = (Voc[world]) -priviousOffset\n",
    "    priviousOffset = int(Voc[world])\n",
    "    \n",
    "freqs.sort(reverse=True)\n",
    "\n",
    "plt.plot(freqs)\n",
    "plt.ylabel('fréquence mot')\n",
    "plt.xscale('log')\n",
    "plt.yscale('log')\n",
    "plt.show()"
   ]
  },
  {
   "cell_type": "markdown",
   "metadata": {},
   "source": [
    "on peut classer les mot de la façon suivante: \n",
    "\n",
    "heighFreq = worldsFreq[10:100] # 50 000 > x > 15 000\n",
    "middelFreq = worldsFreq[1000:5000] # 4500 > x > 800 \n",
    "lowFreq =worldsFreq[50000: 150000] # 17 > x > 2 \n",
    "\n",
    "\n",
    "\n",
    "\n",
    "## 3. Evaluation des performances \n",
    "### a) analyse de l'evalusiont du temps de calcule en fonction du nombre de resutat attenu\n",
    "\n",
    "l'annalyse peut étres fait sur plusieur groups de mots: \n",
    "\n",
    "(4434, 'believes') (2077, 'coalition') (1434, 'matt')\n",
    "(6411, 'build')\n",
    "(7501, 'party') (6599, 'actually')(3802, 'jail') (4101, 'august')"
   ]
  },
  {
   "cell_type": "code",
   "execution_count": 9,
   "metadata": {},
   "outputs": [
    {
     "name": "stdout",
     "output_type": "stream",
     "text": [
      "finiched\r"
     ]
    }
   ],
   "source": [
    "from wordtraveller import query\n",
    "from wordtraveller import faginstavf, faginstopkvf, naivetopk\n",
    "from sys import stdout\n",
    "import time \n",
    "\n",
    "\n",
    "\n",
    "\n",
    "listOfWords = [[tuple[1]for tuple in worldsFreq[30:33]]]\n",
    "\n",
    "\n",
    "\n",
    "#words= ['build']\n",
    "#words= ['party','actually','jail','august']\n",
    "\n",
    "\n",
    "\n",
    "\n",
    "# \n",
    "size = 20\n",
    "\n",
    "def f(k): \n",
    "    return k\n",
    "\n",
    "totaleTimeTA = [[0]*len(listOfWords) for i in range(0,size)]\n",
    "totaleTimeNaiv = [[0]*len(listOfWords) for i in range(0,size)]\n",
    "totaleTimefag = [[0]*len(listOfWords) for i in range(0,size)]\n",
    "\n",
    "totaleTimeTAAvg = [0]*size\n",
    "totaleTimeNaivAvg = [0]*size\n",
    "totaleTimefagAvg = [0]*size\n",
    "\n",
    "\n",
    "for i,words in enumerate(listOfWords):\n",
    "    for k in range(0,size):\n",
    "        print(\"{}% \".format(round((i*size+k)/(len(listOfWords)*size)*100)), end=\"\\r\")\n",
    "        sartingTime = time.time()\n",
    "        resutle = faginstavf.apply_fagins_ta(words, Voc, filemanager, 0, f(k))\n",
    "        totaleTimeTA[k][i] = time.time() - sartingTime\n",
    "\n",
    "        sartingTime = time.time()\n",
    "        resutle = faginstopkvf.apply_top_k_algo(words, Voc, filemanager, 0, f(k))\n",
    "        totaleTimefag[k][i] = time.time() - sartingTime\n",
    "\n",
    "        sartingTime = time.time()\n",
    "        naivetopk.naive_top_k_algo(words, Voc, filemanager, 0,f(k) )\n",
    "        totaleTimeNaiv[k][i] = time.time() - sartingTime\n",
    "        \n",
    "print(\"finiched\", end=\"\\r\")\n",
    "\n",
    "for k in range(0,size):\n",
    "    totaleTimeTAAvg[k]= sum(totaleTimeTA[k])/len(totaleTimeTA[k])\n",
    "    totaleTimeNaivAvg[k]= sum(totaleTimeNaiv[k])/len(totaleTimeNaiv[k])\n",
    "    totaleTimefagAvg[k]= sum(totaleTimefag[k])/len(totaleTimefag[k])"
   ]
  },
  {
   "cell_type": "code",
   "execution_count": 10,
   "metadata": {},
   "outputs": [
    {
     "data": {
      "image/png": "[encoded data removed]",
      "text/plain": [
       "<Figure size 432x288 with 1 Axes>"
      ]
     },
     "metadata": {
      "needs_background": "light"
     },
     "output_type": "display_data"
    }
   ],
   "source": [
    "x = [0]*size\n",
    "for i in range(1,size): \n",
    "    x[i] = f(i)\n",
    "    \n",
    "\n",
    "plt.plot(x,totaleTimeTAAvg, label=\"FaginsTA \")\n",
    "plt.plot(x,totaleTimeNaivAvg, label=\"Fagins topK\")\n",
    "plt.plot(x,totaleTimefagAvg, label=\"naive topK \")\n",
    "\n",
    "plt.ylabel('time to comput (in s)')\n",
    "plt.xlabel('k')\n",
    "plt.legend(numpoints=2)\n",
    "plt.show()"
   ]
  },
  {
   "cell_type": "markdown",
   "metadata": {},
   "source": [
    "### b) analyse de l'évolution du temps de calcul en fonction du nombre de mot dans la recherche "
   ]
  },
  {
   "cell_type": "code",
   "execution_count": null,
   "metadata": {},
   "outputs": [],
   "source": [
    "from wordtraveller import query\n",
    "from wordtraveller import faginstavf, faginstopkvf, naivetopk\n",
    "from sys import stdout\n",
    "import time \n",
    "\n",
    "\n",
    "\n",
    "\n",
    "listOfWords = [[tuple[1]for tuple in worldsFreq[30:33]]]\n",
    "\n",
    "\n",
    "\n",
    "#words= ['build']\n",
    "#words= ['party','actually','jail','august']\n",
    "\n",
    "\n",
    "\n",
    "\n",
    "# \n",
    "size = 20\n",
    "\n",
    "def f(k): \n",
    "    return k\n",
    "\n",
    "totaleTimeTA = [[0]*len(listOfWords) for i in range(0,size)]\n",
    "totaleTimeNaiv = [[0]*len(listOfWords) for i in range(0,size)]\n",
    "totaleTimefag = [[0]*len(listOfWords) for i in range(0,size)]\n",
    "\n",
    "totaleTimeTAAvg = [0]*size\n",
    "totaleTimeNaivAvg = [0]*size\n",
    "totaleTimefagAvg = [0]*size\n",
    "\n",
    "\n",
    "for i,words in enumerate(listOfWords):\n",
    "    for k in range(0,size):\n",
    "        print(\"{}% \".format(round((i*size+k)/(len(listOfWords)*size)*100)), end=\"\\r\")\n",
    "        sartingTime = time.time()\n",
    "        resutle = faginstavf.apply_fagins_ta(words, Voc, filemanager, 0, f(k))\n",
    "        totaleTimeTA[k][i] = time.time() - sartingTime\n",
    "\n",
    "        sartingTime = time.time()\n",
    "        resutle = faginstopkvf.apply_top_k_algo(words, Voc, filemanager, 0, f(k))\n",
    "        totaleTimefag[k][i] = time.time() - sartingTime\n",
    "\n",
    "        sartingTime = time.time()\n",
    "        naivetopk.naive_top_k_algo(words, Voc, filemanager, 0,f(k) )\n",
    "        totaleTimeNaiv[k][i] = time.time() - sartingTime\n",
    "        \n",
    "print(\"finiched\", end=\"\\r\")\n",
    "\n",
    "for k in range(0,size):\n",
    "    totaleTimeTAAvg[k]= sum(totaleTimeTA[k])/len(totaleTimeTA[k])\n",
    "    totaleTimeNaivAvg[k]= sum(totaleTimeNaiv[k])/len(totaleTimeNaiv[k])\n",
    "    totaleTimefagAvg[k]= sum(totaleTimefag[k])/len(totaleTimefag[k])"
   ]
  },
  {
   "cell_type": "code",
   "execution_count": 11,
   "metadata": {},
   "outputs": [
    {
     "name": "stdout",
     "output_type": "stream",
     "text": [
      "finiched\r"
     ]
    }
   ],
   "source": [
    "from wordtraveller import query\n",
    "from wordtraveller import faginstavf, faginstopkvf, naivetopk\n",
    "from sys import stdout\n",
    "import time \n",
    "\n",
    "\n",
    "# define words \n",
    "WordsList= [0]*1024\n",
    "for i in range(0,1024): \n",
    "    WordsList[i]= worldsFreq[10000+i][1]\n",
    "WordsList.sort(reverse=True)\n",
    "\n",
    "# \n",
    "size = 20\n",
    "\n",
    "def f(k): \n",
    "    return k\n",
    "\n",
    "\n",
    "totaleTimeTAWords = [0]*size\n",
    "totaleTimefagWords = [0]*size\n",
    "totaleTimeNaivWords = [0]*size\n",
    "\n",
    "\n",
    "\n",
    "for n in range(0,size):\n",
    "    words = WordsList[0:n*n]\n",
    "    print(\"{}% \".format(round((n)/(size)*100)), end=\"\\r\")\n",
    "    sartingTime = time.time()\n",
    "    resutle = faginstavf.apply_fagins_ta(words, Voc, filemanager, 0, 30)\n",
    "    totaleTimeTAWords[n] = time.time() - sartingTime\n",
    "\n",
    "    sartingTime = time.time()\n",
    "    resutle = faginstopkvf.apply_top_k_algo(words, Voc, filemanager, 0, 30)\n",
    "    totaleTimefagWords[n] = time.time() - sartingTime\n",
    "\n",
    "    sartingTime = time.time()\n",
    "    naivetopk.naive_top_k_algo(words, Voc, filemanager, 0, 30)\n",
    "    totaleTimeNaivWords[n] = time.time() - sartingTime\n",
    "        \n",
    "print(\"finiched\", end=\"\\r\")\n"
   ]
  },
  {
   "cell_type": "code",
   "execution_count": 12,
   "metadata": {},
   "outputs": [
    {
     "data": {
      "image/png": "[encoded data removed]",
      "text/plain": [
       "<Figure size 432x288 with 1 Axes>"
      ]
     },
     "metadata": {
      "needs_background": "light"
     },
     "output_type": "display_data"
    }
   ],
   "source": [
    "x = [0]*size\n",
    "for i in range(1,size): \n",
    "    x[i] = i*i\n",
    "    \n",
    "\n",
    "\n",
    "plt.plot(x,totaleTimeTAWords, label=\"FaginsTA\")\n",
    "plt.plot(x,totaleTimefagWords, label=\"Fagins topK\")\n",
    "plt.plot(x,totaleTimeNaivWords, label=\"Naive\")\n",
    "\n",
    "plt.ylabel('time to comput (in s)')\n",
    "plt.xlabel('Number of words in the query')\n",
    "plt.legend(numpoints=2)\n",
    "plt.show()"
   ]
  },
  {
   "cell_type": "markdown",
   "metadata": {},
   "source": [
    "### c) analyse de l'évolution du temps de calcul en fonction de la tailles des posting lists"
   ]
  },
  {
   "cell_type": "code",
   "execution_count": 14,
   "metadata": {},
   "outputs": [
    {
     "name": "stdout",
     "output_type": "stream",
     "text": [
      "finiched\r"
     ]
    }
   ],
   "source": [
    "from wordtraveller import query\n",
    "from wordtraveller import faginstavf, faginstopkvf,naivetopk\n",
    "import time \n",
    "\n",
    "# define words \n",
    "\n",
    "\n",
    "size = 19\n",
    "nbIter = 5 \n",
    "nbOfwords = 2\n",
    "\n",
    "def f(i): \n",
    "    return i*i*100\n",
    "\n",
    "ListWorlds = [[0] * nbOfwords for _ in range(size)]\n",
    "for i in range(1,size+1): \n",
    "    ListWorlds[i-1] = [world[1] for world in worldsFreq if world[0]>=f(i) and world[0]<=f(i)*1.10][0:nbOfwords]\n",
    "    if len(ListWorlds[i-1])!= nbOfwords : \n",
    "            print (\"Le jeux de donnée n'est pas reproésentatife in faut changer les paramters\")\n",
    "            print (\"les mots de taille {} poesent probleme seul {} / {}\".format(f(i),len(ListWorlds[i-1]),nbOfwords ))\n",
    "#print (ListWorlds)\n",
    "\n",
    "totaleTimeTAPLAvg = [0]*size\n",
    "totaleTimefagPLAvg = [0]*size\n",
    "totaleTimeNaivPLAvg = [0]*size\n",
    "\n",
    "totaleTimeTAPL = [[0]*nbIter for i in range(0,size)]\n",
    "totaleTimeNaivPL = [[0]*nbIter for i in range(0,size)]\n",
    "totaleTimefagPL = [[0]*nbIter for i in range(0,size)]\n",
    "\n",
    "\n",
    "for k in range(0,nbIter):\n",
    "    for n in range(0,size):\n",
    "        print(\"{}% \".format(round((k*size+n)/(nbIter*size)*100)), end=\"\\r\")\n",
    "        words = ListWorlds[n]\n",
    "\n",
    "\n",
    "\n",
    "\n",
    "        sartingTime = time.time()\n",
    "        faginstavf.apply_fagins_ta(words, Voc, filemanager, 0, 15)\n",
    "        totaleTimeTAPL[n][k] = time.time() - sartingTime\n",
    "\n",
    "        sartingTime = time.time()\n",
    "        faginstopkvf.apply_top_k_algo(words, Voc, filemanager, 0, 15)\n",
    "        totaleTimefagPL[n][k] = time.time() - sartingTime\n",
    "\n",
    "        sartingTime = time.time()\n",
    "        naivetopk.naive_top_k_algo(words, Voc, filemanager, 0, 15 )\n",
    "        totaleTimeNaivPL[n][k] = time.time() - sartingTime\n",
    "print(\"finiched\", end=\"\\r\")\n",
    "\n",
    "\n",
    "for k in range(0,size):\n",
    "    totaleTimeTAPLAvg[k]= sum(totaleTimeTAPL[k])/nbIter\n",
    "    totaleTimefagPLAvg[k]= sum(totaleTimefagPL[k])/nbIter\n",
    "    totaleTimeNaivPLAvg[k]= sum(totaleTimeNaivPL[k])/nbIter"
   ]
  },
  {
   "cell_type": "code",
   "execution_count": 15,
   "metadata": {
    "scrolled": true
   },
   "outputs": [
    {
     "name": "stdout",
     "output_type": "stream",
     "text": [
      "[0, 100, 400, 900, 1600, 2500, 3600, 4900, 6400, 8100, 10000, 12100, 14400, 16900, 19600, 22500, 25600, 28900, 32400]\n"
     ]
    },
    {
     "data": {
      "image/png": "[encoded data removed]",
      "text/plain": [
       "<Figure size 432x288 with 1 Axes>"
      ]
     },
     "metadata": {
      "needs_background": "light"
     },
     "output_type": "display_data"
    }
   ],
   "source": [
    "size = 19\n",
    "nbIter = 5 \n",
    "nbOfwords = 2\n",
    "\n",
    "def f(i): \n",
    "    return i*i*100\n",
    "\n",
    "x = [0]*size\n",
    "for i in range(1,size): \n",
    "    x[i] = f(i)\n",
    "    \n",
    "\n",
    "print (x)\n",
    "plt.plot(x,totaleTimeTAPLAvg, label=\"FaginsTA\")\n",
    "plt.plot(x,totaleTimefagPLAvg, label=\"Fagins topK\") \n",
    "plt.plot(x,totaleTimeNaivPLAvg, label=\"naive\")\n",
    "\n",
    "\n",
    "plt.ylabel('time to comput (in s)')\n",
    "plt.xlabel('Number of documents in the posting list')\n",
    "plt.legend(numpoints=2)\n",
    "plt.show()\n",
    "\n"
   ]
  },
  {
   "cell_type": "markdown",
   "metadata": {},
   "source": [
    "### d) analyse de l'evalusiont du temps de calcule en fonction de epsilon pour TA"
   ]
  },
  {
   "cell_type": "code",
   "execution_count": 20,
   "metadata": {},
   "outputs": [
    {
     "name": "stdout",
     "output_type": "stream",
     "text": [
      "finiched\r"
     ]
    }
   ],
   "source": [
    "from wordtraveller import query\n",
    "from wordtraveller import faginstavf, faginstopkvf, naivetopk\n",
    "from sys import stdout\n",
    "import time \n",
    "\n",
    "\n",
    "\n",
    "\n",
    "listOfWords = [[tuple[1]for tuple in worldsFreq[200:210]]]\n",
    "#words= ['build']\n",
    "#words= ['party','actually','jail','august']\n",
    "\n",
    "\n",
    "\n",
    "\n",
    "# \n",
    "size = 20\n",
    "\n",
    "def f(k,size): \n",
    "    return k/3/size\n",
    "\n",
    "\n",
    "\n",
    "totaleTimeTAE = [[0]*len(listOfWords) for i in range(0,size)]\n",
    "\n",
    "\n",
    "totaleTimeTAEAvg = [0]*size\n",
    "\n",
    "\n",
    "for i,words in enumerate(listOfWords):\n",
    "    for k in range(0,size):\n",
    "        \n",
    "        print(\"{}% \".format(round((i*size+k)/(len(listOfWords)*size)*100)), end=\"\\r\")\n",
    "        sartingTime = time.time()\n",
    "        resutle = faginstavf.apply_fagins_ta(words, Voc, filemanager, f(k,size), 20)\n",
    "        totaleTimeTAE[k][i] = time.time() - sartingTime\n",
    "\n",
    "        \n",
    "print(\"finiched\", end=\"\\r\")\n",
    "\n",
    "for k in range(0,size):\n",
    "    totaleTimeTAEAvg[k]= sum(totaleTimeTAE[k])/len(totaleTimeTAE[k])"
   ]
  },
  {
   "cell_type": "code",
   "execution_count": 21,
   "metadata": {},
   "outputs": [
    {
     "data": {
      "image/png": "[encoded data removed]",
      "text/plain": [
       "<Figure size 432x288 with 1 Axes>"
      ]
     },
     "metadata": {
      "needs_background": "light"
     },
     "output_type": "display_data"
    }
   ],
   "source": [
    "x = [0]*size\n",
    "for i in range(1,size): \n",
    "    x[i] = f(i,size)\n",
    "    \n",
    "\n",
    "plt.plot(x,totaleTimeTAEAvg, label=\"FaginsTA \")\n",
    "\n",
    "\n",
    "\n",
    "plt.ylabel('time to comput (in s)')\n",
    "plt.xlabel('epsiolon ')\n",
    "plt.legend(numpoints=2)\n",
    "plt.show()"
   ]
  },
  {
   "cell_type": "code",
   "execution_count": 14,
   "metadata": {},
   "outputs": [
    {
     "name": "stdout",
     "output_type": "stream",
     "text": [
      "time2.806492805480957\n",
      "[(5461, 4.278315472602844), (155204, 3.9234416007995607), (211763, 3.744084858894348), (316254, 3.6861637592315675), (205243, 3.556128716468811), (323334, 3.415151286125183), (204882, 3.381671905517578), (6894, 3.3609981775283813), (47944, 3.3591891050338747), (121192, 3.346178483963013), (282554, 3.262967276573181), (203744, 3.2488231658935547), (281924, 3.124801182746887), (93134, 3.1032275438308714), (24092, 3.0978962659835814), (299483, 3.059166359901428), (260632, 3.0518312215805055), (150414, 3.0485816478729246), (280244, 3.0360249996185305), (6234, 3.0111249446868897), (102923, 3.0054314613342283), (185541, 2.935701608657837), (151912, 2.9219251394271852), (181812, 2.916266918182373), (241982, 2.912799286842346), (292503, 2.9096802473068237), (277573, 2.8955422401428224), (137561, 2.8935711860656737), (86283, 2.8846285820007322), (109043, 2.882876467704773), (235512, 2.879897141456604), (254001, 2.872017741203308), (39362, 2.868717074394226), (279962, 2.8660926103591917), (127531, 2.8629870891571043), (279982, 2.848881983757019), (184282, 2.844650959968567), (282354, 2.844343566894531), (159283, 2.8200161933898924), (44264, 2.8143747568130495), (212844, 2.8123184204101563), (127822, 2.809950828552246), (309451, 2.8044232368469237), (214811, 2.7969702005386354), (313183, 2.7871920347213743), (299181, 2.7813196659088133), (68901, 2.7790780067443848), (204921, 2.7772352933883666), (235852, 2.7748567342758177), (326342, 2.770687198638916), (222482, 2.764845108985901), (188263, 2.755720829963684), (15011, 2.7539846181869505), (33324, 2.7524814367294312), (201742, 2.7505455493927), (279541, 2.745207977294922), (104103, 2.7275141716003417), (75282, 2.7202550172805786), (114921, 2.719683814048767), (153844, 2.7168211221694945), (29892, 2.7150930166244507), (65762, 2.692644786834717), (81023, 2.684155821800232), (139663, 2.6751110792160033), (201362, 2.6697189092636107), (47544, 2.6675917863845826), (218042, 2.6660900115966797), (218663, 2.6660900115966797), (198314, 2.6626383781433107), (165514, 2.6590203046798706), (53584, 2.657923173904419), (57181, 2.657485103607178), (113624, 2.6571813344955446), (280413, 2.652326202392578), (159961, 2.6457303047180174), (14722, 2.641411232948303), (313731, 2.6401655197143556), (218402, 2.628282070159912), (190032, 2.624263143539429), (45364, 2.623420310020447), (42101, 2.615488052368164), (29594, 2.614868187904358), (130541, 2.614211630821228), (246543, 2.6124031782150268), (2844, 2.6112046957015993), (3281, 2.6112046957015993), (215382, 2.610681247711182), (24293, 2.6093897581100465), (279602, 2.5967963457107546), (323681, 2.5955265283584597), (198144, 2.5883771657943724), (329341, 2.5831944942474365), (277432, 2.580941915512085), (320693, 2.577725577354431), (112943, 2.5776436567306518), (111643, 2.575097751617432), (147051, 2.5730835437774657), (171272, 2.5709407806396483), (103061, 2.5651284217834474), (146151, 2.5525275468826294)]\n",
      "[(5461, 4.278315472602844), (155204, 3.9234416007995607), (211763, 3.744084858894348), (316254, 3.6861637592315675), (205243, 3.556128716468811), (323334, 3.415151286125183), (204882, 3.381671905517578), (6894, 3.3609981775283813), (47944, 3.3591891050338747), (121192, 3.346178483963013), (282554, 3.262967276573181), (203744, 3.2488231658935547), (281924, 3.124801182746887), (93134, 3.1032275438308714), (24092, 3.0978962659835814), (299483, 3.059166359901428), (260632, 3.0518312215805055), (150414, 3.0485816478729246), (280244, 3.0360249996185305), (6234, 3.0111249446868897), (102923, 3.0054314613342283), (185541, 2.935701608657837), (151912, 2.9219251394271852), (181812, 2.916266918182373), (241982, 2.912799286842346), (292503, 2.9096802473068237), (277573, 2.8955422401428224), (137561, 2.8935711860656737), (86283, 2.8846285820007322), (109043, 2.882876467704773), (235512, 2.879897141456604), (254001, 2.872017741203308), (39362, 2.868717074394226), (279962, 2.8660926103591917), (127531, 2.8629870891571043), (279982, 2.848881983757019), (184282, 2.844650959968567), (282354, 2.844343566894531), (159283, 2.8200161933898924), (44264, 2.8143747568130495), (212844, 2.8123184204101563), (127822, 2.809950828552246), (309451, 2.8044232368469237), (214811, 2.7969702005386354), (313183, 2.7871920347213743), (299181, 2.7813196659088133), (68901, 2.7790780067443848), (204921, 2.7772352933883666), (235852, 2.7748567342758177), (326342, 2.770687198638916), (222482, 2.764845108985901), (188263, 2.755720829963684), (15011, 2.7539846181869505), (33324, 2.7524814367294312), (201742, 2.7505455493927), (279541, 2.745207977294922), (104103, 2.7275141716003417), (75282, 2.7202550172805786), (114921, 2.719683814048767), (153844, 2.7168211221694945), (29892, 2.7150930166244507), (65762, 2.692644786834717), (81023, 2.684155821800232), (139663, 2.6751110792160033), (201362, 2.6697189092636107), (47544, 2.6675917863845826), (218042, 2.6660900115966797), (218663, 2.6660900115966797), (198314, 2.6626383781433107), (165514, 2.6590203046798706), (53584, 2.657923173904419), (57181, 2.657485103607178), (113624, 2.6571813344955446), (280413, 2.652326202392578), (159961, 2.6457303047180174), (14722, 2.641411232948303), (313731, 2.6401655197143556), (218402, 2.628282070159912), (190032, 2.624263143539429), (45364, 2.623420310020447), (42101, 2.615488052368164), (29594, 2.614868187904358), (130541, 2.614211630821228), (246543, 2.6124031782150268), (2844, 2.6112046957015993), (3281, 2.6112046957015993), (215382, 2.610681247711182), (24293, 2.6093897581100465), (279602, 2.5967963457107546), (323681, 2.5955265283584597), (198144, 2.5883771657943724), (329341, 2.5831944942474365), (277432, 2.580941915512085), (320693, 2.577725577354431), (112943, 2.5776436567306518), (111643, 2.575097751617432), (147051, 2.5730835437774657), (171272, 2.5709407806396483), (103061, 2.5651284217834474), (146151, 2.5525275468826294)]\n",
      "has the same tuples\n"
     ]
    }
   ],
   "source": [
    "import time\n",
    "from wordtraveller import faginstavf,naivetopk\n",
    "\n",
    "words = [world[1] for world in worldsFreq[200:210]]\n",
    "\n",
    "sartingTime = time.time()\n",
    "faginstavf.apply_fagins_ta(words, Voc, filemanager, 0, 15)\n",
    "resutle = faginstavf.apply_fagins_ta(words, Voc, filemanager, 0, 100)\n",
    "totaletiem = time.time() - sartingTime\n",
    "print ('time{}'.format(totaletiem))\n",
    "\n",
    "\n",
    "\n",
    "aspected =  naivetopk.apply_naive_top_k_algo(words, Voc, filemanager, 0, 100)\n",
    "\n",
    "\n",
    "#print (aspected)\n",
    "#print (resutle)\n",
    "is_equal = True \n",
    "aspected.sort()\n",
    "resutle.sort()\n",
    "if len(aspected) == len(resutle) : \n",
    "    for i in range(0, len(resutle)): \n",
    "        if not (aspected[i][0]== resutle[i][0] and aspected[i][1]== resutle[i][1]):\n",
    "            is_equal= False\n",
    "else: \n",
    "    is_equal = False\n",
    "    \n",
    "if not is_equal :\n",
    "    print (\"has not the same tuples\")\n",
    "else: \n",
    "    print(\"has the same tuples\")\n",
    "    \n",
    "    \n",
    "\n",
    "   \n",
    "\n"
   ]
  },
  {
   "cell_type": "code",
   "execution_count": 7,
   "metadata": {},
   "outputs": [
    {
     "name": "stdout",
     "output_type": "stream",
     "text": [
      "0% \r",
      "['zimbabw', 'whaler']\n",
      "[(130454, 23.08133888244629), (148132, 14.976445198059082), (872, 8.845330238342285), (12052, 8.845330238342285), (120043, 8.845330238342285), (122712, 8.845330238342285), (135342, 8.845330238342285), (149771, 8.845330238342285), (171611, 8.845330238342285), (177032, 8.845330238342285)]\n",
      "[(130454, 23.08133888244629), (148132, 14.976445198059082), (872, 8.845330238342285), (12052, 8.845330238342285), (120043, 8.845330238342285), (122712, 8.845330238342285), (135342, 8.845330238342285), (149771, 8.845330238342285), (171611, 8.845330238342285), (177032, 8.845330238342285)]\n",
      "[(130454, 11.540669441223145), (148132, 7.488222599029541), (191104, 4.422665119171143), (197124, 4.422665119171143), (872, 4.422665119171143), (177032, 4.422665119171143), (179274, 4.422665119171143), (120043, 4.422665119171143), (149771, 4.422665119171143), (183341, 4.422665119171143)]\n",
      "finiched\r"
     ]
    }
   ],
   "source": [
    "from wordtraveller import query\n",
    "from wordtraveller import faginstavf, faginstopkvf,naivetopk\n",
    "import time \n",
    "\n",
    "# define words \n",
    "\n",
    "\n",
    "size = 1\n",
    "nbIter = 1 \n",
    "nbOfwords = 2\n",
    "\n",
    "def f(i): \n",
    "    return i*i*100\n",
    "\n",
    "ListWorlds = [[0] * nbOfwords for _ in range(size)]\n",
    "for i in range(1,size+1): \n",
    "    ListWorlds[i-1] = [world[1] for world in worldsFreq if world[0]>=f(i) and world[0]<=f(i)*1.10][0:nbOfwords]\n",
    "    if len(ListWorlds[i-1])!= nbOfwords : \n",
    "            print (\"Le jeux de donnée n'est pas reproésentatife in faut changer les paramters\")\n",
    "            print (\"les mots de taille {} poesent probleme seul {} / {}\".format(f(i),len(ListWorlds[i-1]),nbOfwords ))\n",
    "#print (ListWorlds)\n",
    "\n",
    "totaleTimeTAPLAvg = [0]*size\n",
    "totaleTimefagPLAvg = [0]*size\n",
    "totaleTimeNaivPLAvg = [0]*size\n",
    "\n",
    "totaleTimeTAPL = [[0]*nbIter for i in range(0,size)]\n",
    "totaleTimeNaivPL = [[0]*nbIter for i in range(0,size)]\n",
    "totaleTimefagPL = [[0]*nbIter for i in range(0,size)]\n",
    "\n",
    "\n",
    "for k in range(0,nbIter):\n",
    "    for n in range(0,size):\n",
    "        print(\"{}% \".format(round((k*size+n)/(nbIter*size)*100)), end=\"\\r\")\n",
    "        words = ['zimbabw', 'whaler']\n",
    "        print (words)\n",
    "\n",
    "\n",
    "\n",
    "\n",
    "\n",
    "        sartingTime = time.time()\n",
    "        r= faginstavf.apply_fagins_ta(words, Voc, filemanager, 0, 10)\n",
    "        totaleTimeTAPL[n][k] = time.time() - sartingTime\n",
    "        print (r)\n",
    "        \n",
    "        sartingTime = time.time()\n",
    "        r= faginstopkvf.apply_top_k_algo(words, Voc, filemanager, 0, 10)\n",
    "        totaleTimefagPL[n][k] = time.time() - sartingTime\n",
    "        print (r)\n",
    "\n",
    "        sartingTime = time.time()\n",
    "        r= naivetopk.apply_naive_top_k_algo(words, Voc, filemanager, 0, 10 )\n",
    "        totaleTimeNaivPL[n][k] = time.time() - sartingTime\n",
    "        print (r)\n",
    "print(\"finiched\", end=\"\\r\")\n",
    "\n",
    "\n"
   ]
  }
 ],
 "metadata": {
  "kernelspec": {
   "display_name": "Python 3",
   "language": "python",
   "name": "python3"
  },
  "language_info": {
   "codemirror_mode": {
    "name": "ipython",
    "version": 3
   },
   "file_extension": ".py",
   "mimetype": "text/x-python",
   "name": "python",
   "nbconvert_exporter": "python",
   "pygments_lexer": "ipython3",
   "version": "3.7.0"
  }
 },
 "nbformat": 4,
 "nbformat_minor": 2
}
