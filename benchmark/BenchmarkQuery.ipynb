{
 "cells": [
  {
   "cell_type": "markdown",
   "metadata": {},
   "source": [
    "# Benchmark for query algorthems\n",
    "\n",
    "## 1. getting the data"
   ]
  },
  {
   "cell_type": "code",
   "execution_count": 1,
   "metadata": {},
   "outputs": [],
   "source": [
    "## /!\\ to be executed only onses \n",
    "import sys\n",
    "sys.path.insert(0, \"..\")"
   ]
  },
  {
   "cell_type": "code",
   "execution_count": 2,
   "metadata": {},
   "outputs": [
    {
     "name": "stdout",
     "output_type": "stream",
     "text": [
      "325354\n"
     ]
    }
   ],
   "source": [
    "from wordtraveller import filemanager as fm\n",
    "filemanager = fm.FileManager('test1' , '../workspace/'  )\n",
    "Voc = filemanager.read_vocabulary()\n",
    "\n",
    "print(len(Voc))"
   ]
  },
  {
   "cell_type": "code",
   "execution_count": 3,
   "metadata": {},
   "outputs": [
    {
     "name": "stdout",
     "output_type": "stream",
     "text": [
      "131896\n"
     ]
    }
   ],
   "source": [
    "print(Voc.pop(\"***NumberDifferentDocs***\"))"
   ]
  },
  {
   "cell_type": "markdown",
   "metadata": {},
   "source": [
    "## 2. vocabulary analythis \n",
    "### a) gets the ten most frequant words"
   ]
  },
  {
   "cell_type": "code",
   "execution_count": 4,
   "metadata": {},
   "outputs": [
    {
     "name": "stdout",
     "output_type": "stream",
     "text": [
      "[(131997, '-'), (113786, '<number>'), (85006, 'said'), (62077, 'one'), (55571, 'two'), (54144, '--'), (52693, 'would'), (51461, 'also'), (50276, 'last'), (47889, 'new')]\n"
     ]
    }
   ],
   "source": [
    "from sortedcontainers import SortedDict\n",
    "worldsFreq = [0]*len(Voc)\n",
    "priviousOffset = 0 \n",
    "first = True\n",
    "for i, world in enumerate(Voc): \n",
    "    worldsFreq[i] = (int(Voc[world]) -priviousOffset, world )\n",
    "    priviousOffset = int(Voc[world])\n",
    "worldsFreq.sort(reverse=True)\n",
    "print(worldsFreq[0:10])"
   ]
  },
  {
   "cell_type": "markdown",
   "metadata": {},
   "source": [
    "### b) Zipf's low"
   ]
  },
  {
   "cell_type": "code",
   "execution_count": 6,
   "metadata": {},
   "outputs": [
    {
     "data": {
      "image/png": "[encoded data removed]",
      "text/plain": [
       "<Figure size 432x288 with 1 Axes>"
      ]
     },
     "metadata": {
      "needs_background": "light"
     },
     "output_type": "display_data"
    }
   ],
   "source": [
    "import matplotlib.pyplot as plt\n",
    "from sortedcontainers import SortedDict\n",
    "freqs = [0]*len(Voc)\n",
    "priviousOffset = 0 \n",
    "for i, world in enumerate(Voc): \n",
    "    freqs[i] = (Voc[world]) -priviousOffset\n",
    "    priviousOffset = int(Voc[world])\n",
    "freqs.sort(reverse=True)\n",
    "plt.plot(freqs)\n",
    "plt.ylabel('frequanc mot')\n",
    "plt.xscale('log')\n",
    "plt.yscale('log')\n",
    "plt.show()"
   ]
  },
  {
   "cell_type": "code",
   "execution_count": 87,
   "metadata": {},
   "outputs": [
    {
     "name": "stdout",
     "output_type": "stream",
     "text": [
      "(1434, 'matt')\n",
      "time for creating posting lists 0.132523775100708\n",
      "TA donne\n",
      "Fag donne\n"
     ]
    }
   ],
   "source": [
    "from wordtraveller import query\n",
    "from wordtraveller import faginsta, faginstopk\n",
    "import time \n",
    "heighFreq = worldsFreq[10:100] #50 000 > x > 15 000\n",
    "middelFreq = worldsFreq[1000:5000] # 4500 > x > 800 \n",
    "lowFreq =worldsFreq[50000: 150000] # 17 > x > 2 \n",
    "print(worldsFreq[3200]) \n",
    "#(4434, 'believes') (2077, 'coalition') (1434, 'matt')\n",
    "#(6411, 'build')\n",
    "#(7501, 'party') (6599, 'actually')(3802, 'jail') (4101, 'august')\n",
    "\n",
    "#words = ['believes', 'coalition', 'matt']\n",
    "#words= ['build']\n",
    "words= ['party','actually','jail','august']\n",
    "# getting the posting lists for a set of words\n",
    "sartingTime = time.time()\n",
    "posting_lists_ordered_by_id = SortedDict()\n",
    "posting_lists_ordered_by_score = SortedDict()\n",
    "for word in words:\n",
    "    orderedById, orderedByScore = query.get_posting_list(\n",
    "    Voc, word, filemanager, returnPostingListOrderedByScore = True)\n",
    "    if orderedById and orderedByScore:\n",
    "        posting_lists_ordered_by_score[word] = orderedByScore\n",
    "        posting_lists_ordered_by_id[word] = orderedById\n",
    "print( \"time for creating posting lists {}\".format(time.time() - sartingTime))\n",
    "\n",
    "\n",
    "# get the time        \n",
    "totaleTimeTA = [0]*10\n",
    "for k in range(1,10):\n",
    "    sartingTime = time.time()\n",
    "    faginsta.find_fagins_ta(posting_lists_ordered_by_id, posting_lists_ordered_by_score, 0, k*k )\n",
    "    totaleTimeTA[k] = time.time() - sartingTime\n",
    "print( 'TA donne')\n",
    "totaleTimefag = [0]*10\n",
    "for k in range(1,10):   \n",
    "    sartingTime = time.time()\n",
    "    faginstopk.find_fagins_top_k(posting_lists_ordered_by_id, posting_lists_ordered_by_score, k*k )\n",
    "    totaleTimefag[k] = time.time() - sartingTime\n",
    "print( 'Fag donne')"
   ]
  },
  {
   "cell_type": "code",
   "execution_count": 88,
   "metadata": {},
   "outputs": [
    {
     "name": "stdout",
     "output_type": "stream",
     "text": [
      "0.32848215103149414\n",
      "0.37493109703063965\n",
      "0.3630976676940918\n",
      "0.2777416706085205\n",
      "0.414050817489624\n",
      "0.37380075454711914\n",
      "0.29110240936279297\n",
      "0.3816213607788086\n",
      "0.39675068855285645\n",
      "Anive donne\n"
     ]
    }
   ],
   "source": [
    "from wordtraveller import naivetopk\n",
    "totaleTimeNaiv = [0]*10\n",
    "for k in range(1,10):   \n",
    "    sartingTime = time.time()\n",
    "    naivetopk.naive_top_k_algo(words, Voc, filemanager, 0, k*k )\n",
    "\n",
    "    totaleTimeNaiv[k] = time.time() - sartingTime\n",
    "    print (totaleTimeNaiv[k])\n",
    "print( 'Anive donne')\n",
    "\n",
    "#totaleTimefagFull = [0]*10\n",
    "#for k in range(1,10):   \n",
    "#    sartingTime = time.time()\n",
    "#    faginstopk.apply_top_k_algo(words, Voc, filemanager, 0 , k*k)\n",
    "#    totaleTimefagFull[k] = time.time() - sartingTime\n",
    "#print( 'Fag donne')\n",
    "\n",
    "#totaleTimeTAFull = [0]*10\n",
    "#for k in range(1,10):\n",
    "#    sartingTime = time.time()\n",
    "#    faginsta.apply_fagins_ta(words, Voc, filemanager, 0, k*k)\n",
    "#    totaleTimeTAFull[k] = time.time() - sartingTime\n",
    "#print( 'TA donne')"
   ]
  },
  {
   "cell_type": "code",
   "execution_count": 89,
   "metadata": {},
   "outputs": [
    {
     "name": "stdout",
     "output_type": "stream",
     "text": [
      "[0, 1, 4, 9, 16, 25, 36, 49, 64, 81]\n"
     ]
    },
    {
     "data": {
      "image/png": "[encoded data removed]",
      "text/plain": [
       "<Figure size 432x288 with 1 Axes>"
      ]
     },
     "metadata": {
      "needs_background": "light"
     },
     "output_type": "display_data"
    }
   ],
   "source": [
    "x = [0]*10\n",
    "for i in range(1,10): \n",
    "    x[i] = i*i\n",
    "    \n",
    "\n",
    "print (x)\n",
    "plt.plot(x,totaleTimeTA, label=\"FaginsTA\")\n",
    "plt.plot(x,totaleTimefag, label=\"Fagins topK\")\n",
    "#lt.plot(x,totaleTimeTAFull, label=\"FaginsTA Full\")\n",
    "#lt.plot(x,totaleTimefagFull, label=\"Fagins topK Full\")\n",
    "plt.plot(x,totaleTimeNaiv, label=\"naive topK Full\")\n",
    "\n",
    "plt.ylabel('time to comput (in s)')\n",
    "plt.xlabel('k')\n",
    "plt.legend(numpoints=2)\n",
    "plt.show()"
   ]
  }
 ],
 "metadata": {
  "kernelspec": {
   "display_name": "Python 3",
   "language": "python",
   "name": "python3"
  },
  "language_info": {
   "codemirror_mode": {
    "name": "ipython",
    "version": 3
   },
   "file_extension": ".py",
   "mimetype": "text/x-python",
   "name": "python",
   "nbconvert_exporter": "python",
   "pygments_lexer": "ipython3",
   "version": "3.7.0"
  }
 },
 "nbformat": 4,
 "nbformat_minor": 2
}
